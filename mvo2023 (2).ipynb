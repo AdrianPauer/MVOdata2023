{
  "nbformat": 4,
  "nbformat_minor": 0,
  "metadata": {
    "colab": {
      "provenance": [],
      "include_colab_link": true
    },
    "kernelspec": {
      "name": "python3",
      "display_name": "Python 3"
    },
    "language_info": {
      "name": "python"
    }
  },
  "cells": [
    {
      "cell_type": "markdown",
      "metadata": {
        "id": "view-in-github",
        "colab_type": "text"
      },
      "source": [
        "<a href=\"https://colab.research.google.com/github/AdrianPauer/MVOdata2023/blob/main/mvo2023%20(2).ipynb\" target=\"_parent\"><img src=\"https://colab.research.google.com/assets/colab-badge.svg\" alt=\"Open In Colab\"/></a>"
      ]
    },
    {
      "cell_type": "markdown",
      "source": [
        "# Moja mama optimalizuje lepšie ako tvoja : LOG REGRESIA 2023\n"
      ],
      "metadata": {
        "id": "tRUTdfj_eYxa"
      }
    },
    {
      "cell_type": "markdown",
      "source": [
        "## 1 Ťahanie Dát"
      ],
      "metadata": {
        "id": "jjnP_S36f7Xs"
      }
    },
    {
      "cell_type": "code",
      "source": [
        "import numpy as np\n",
        "import time\n",
        "import pandas as pd\n",
        "import seaborn as sns\n",
        "import matplotlib.pyplot as plt\n",
        "import seaborn as sns\n",
        "from scipy.optimize import OptimizeResult"
      ],
      "metadata": {
        "id": "SV4D2cURgJ99"
      },
      "execution_count": 2,
      "outputs": []
    },
    {
      "cell_type": "code",
      "source": [
        "!git clone https://github.com/AdrianPauer/MVOdata2023\n",
        "table = pd.read_csv(\"MVOdata2023/credit_risk_train.csv\",sep = ';')\n",
        "table_test = pd.read_csv(\"MVOdata2023/credit_risk_test.csv\",sep = ';')\n",
        "table"
      ],
      "metadata": {
        "id": "38N8OSd1ggk2",
        "colab": {
          "base_uri": "https://localhost:8080/",
          "height": 527
        },
        "outputId": "cf470c6e-28fb-4565-976f-770abebc6b98"
      },
      "execution_count": 3,
      "outputs": [
        {
          "output_type": "stream",
          "name": "stdout",
          "text": [
            "Cloning into 'MVOdata2023'...\n",
            "remote: Enumerating objects: 26, done.\u001b[K\n",
            "remote: Counting objects: 100% (26/26), done.\u001b[K\n",
            "remote: Compressing objects: 100% (24/24), done.\u001b[K\n",
            "remote: Total 26 (delta 10), reused 0 (delta 0), pack-reused 0\u001b[K\n",
            "Unpacking objects: 100% (26/26), 96.07 KiB | 964.00 KiB/s, done.\n"
          ]
        },
        {
          "output_type": "execute_result",
          "data": {
            "text/plain": [
              "     Creditability  Duration of Credit (month)  Value Savings/Stocks  \\\n",
              "0                0                          24                     1   \n",
              "1                0                          36                     1   \n",
              "2                0                           6                     4   \n",
              "3                0                          12                     1   \n",
              "4                0                          24                     3   \n",
              "..             ...                         ...                   ...   \n",
              "694              0                          20                     1   \n",
              "695              0                           9                     1   \n",
              "696              0                          18                     1   \n",
              "697              0                          24                     1   \n",
              "698              0                          36                     2   \n",
              "\n",
              "     Length of current employment  \n",
              "0                               2  \n",
              "1                               5  \n",
              "2                               2  \n",
              "3                               3  \n",
              "4                               5  \n",
              "..                            ...  \n",
              "694                             3  \n",
              "695                             3  \n",
              "696                             5  \n",
              "697                             2  \n",
              "698                             5  \n",
              "\n",
              "[699 rows x 4 columns]"
            ],
            "text/html": [
              "\n",
              "  <div id=\"df-b8873711-4a26-43bf-953b-82ac81b87ae0\">\n",
              "    <div class=\"colab-df-container\">\n",
              "      <div>\n",
              "<style scoped>\n",
              "    .dataframe tbody tr th:only-of-type {\n",
              "        vertical-align: middle;\n",
              "    }\n",
              "\n",
              "    .dataframe tbody tr th {\n",
              "        vertical-align: top;\n",
              "    }\n",
              "\n",
              "    .dataframe thead th {\n",
              "        text-align: right;\n",
              "    }\n",
              "</style>\n",
              "<table border=\"1\" class=\"dataframe\">\n",
              "  <thead>\n",
              "    <tr style=\"text-align: right;\">\n",
              "      <th></th>\n",
              "      <th>Creditability</th>\n",
              "      <th>Duration of Credit (month)</th>\n",
              "      <th>Value Savings/Stocks</th>\n",
              "      <th>Length of current employment</th>\n",
              "    </tr>\n",
              "  </thead>\n",
              "  <tbody>\n",
              "    <tr>\n",
              "      <th>0</th>\n",
              "      <td>0</td>\n",
              "      <td>24</td>\n",
              "      <td>1</td>\n",
              "      <td>2</td>\n",
              "    </tr>\n",
              "    <tr>\n",
              "      <th>1</th>\n",
              "      <td>0</td>\n",
              "      <td>36</td>\n",
              "      <td>1</td>\n",
              "      <td>5</td>\n",
              "    </tr>\n",
              "    <tr>\n",
              "      <th>2</th>\n",
              "      <td>0</td>\n",
              "      <td>6</td>\n",
              "      <td>4</td>\n",
              "      <td>2</td>\n",
              "    </tr>\n",
              "    <tr>\n",
              "      <th>3</th>\n",
              "      <td>0</td>\n",
              "      <td>12</td>\n",
              "      <td>1</td>\n",
              "      <td>3</td>\n",
              "    </tr>\n",
              "    <tr>\n",
              "      <th>4</th>\n",
              "      <td>0</td>\n",
              "      <td>24</td>\n",
              "      <td>3</td>\n",
              "      <td>5</td>\n",
              "    </tr>\n",
              "    <tr>\n",
              "      <th>...</th>\n",
              "      <td>...</td>\n",
              "      <td>...</td>\n",
              "      <td>...</td>\n",
              "      <td>...</td>\n",
              "    </tr>\n",
              "    <tr>\n",
              "      <th>694</th>\n",
              "      <td>0</td>\n",
              "      <td>20</td>\n",
              "      <td>1</td>\n",
              "      <td>3</td>\n",
              "    </tr>\n",
              "    <tr>\n",
              "      <th>695</th>\n",
              "      <td>0</td>\n",
              "      <td>9</td>\n",
              "      <td>1</td>\n",
              "      <td>3</td>\n",
              "    </tr>\n",
              "    <tr>\n",
              "      <th>696</th>\n",
              "      <td>0</td>\n",
              "      <td>18</td>\n",
              "      <td>1</td>\n",
              "      <td>5</td>\n",
              "    </tr>\n",
              "    <tr>\n",
              "      <th>697</th>\n",
              "      <td>0</td>\n",
              "      <td>24</td>\n",
              "      <td>1</td>\n",
              "      <td>2</td>\n",
              "    </tr>\n",
              "    <tr>\n",
              "      <th>698</th>\n",
              "      <td>0</td>\n",
              "      <td>36</td>\n",
              "      <td>2</td>\n",
              "      <td>5</td>\n",
              "    </tr>\n",
              "  </tbody>\n",
              "</table>\n",
              "<p>699 rows × 4 columns</p>\n",
              "</div>\n",
              "      <button class=\"colab-df-convert\" onclick=\"convertToInteractive('df-b8873711-4a26-43bf-953b-82ac81b87ae0')\"\n",
              "              title=\"Convert this dataframe to an interactive table.\"\n",
              "              style=\"display:none;\">\n",
              "        \n",
              "  <svg xmlns=\"http://www.w3.org/2000/svg\" height=\"24px\"viewBox=\"0 0 24 24\"\n",
              "       width=\"24px\">\n",
              "    <path d=\"M0 0h24v24H0V0z\" fill=\"none\"/>\n",
              "    <path d=\"M18.56 5.44l.94 2.06.94-2.06 2.06-.94-2.06-.94-.94-2.06-.94 2.06-2.06.94zm-11 1L8.5 8.5l.94-2.06 2.06-.94-2.06-.94L8.5 2.5l-.94 2.06-2.06.94zm10 10l.94 2.06.94-2.06 2.06-.94-2.06-.94-.94-2.06-.94 2.06-2.06.94z\"/><path d=\"M17.41 7.96l-1.37-1.37c-.4-.4-.92-.59-1.43-.59-.52 0-1.04.2-1.43.59L10.3 9.45l-7.72 7.72c-.78.78-.78 2.05 0 2.83L4 21.41c.39.39.9.59 1.41.59.51 0 1.02-.2 1.41-.59l7.78-7.78 2.81-2.81c.8-.78.8-2.07 0-2.86zM5.41 20L4 18.59l7.72-7.72 1.47 1.35L5.41 20z\"/>\n",
              "  </svg>\n",
              "      </button>\n",
              "      \n",
              "  <style>\n",
              "    .colab-df-container {\n",
              "      display:flex;\n",
              "      flex-wrap:wrap;\n",
              "      gap: 12px;\n",
              "    }\n",
              "\n",
              "    .colab-df-convert {\n",
              "      background-color: #E8F0FE;\n",
              "      border: none;\n",
              "      border-radius: 50%;\n",
              "      cursor: pointer;\n",
              "      display: none;\n",
              "      fill: #1967D2;\n",
              "      height: 32px;\n",
              "      padding: 0 0 0 0;\n",
              "      width: 32px;\n",
              "    }\n",
              "\n",
              "    .colab-df-convert:hover {\n",
              "      background-color: #E2EBFA;\n",
              "      box-shadow: 0px 1px 2px rgba(60, 64, 67, 0.3), 0px 1px 3px 1px rgba(60, 64, 67, 0.15);\n",
              "      fill: #174EA6;\n",
              "    }\n",
              "\n",
              "    [theme=dark] .colab-df-convert {\n",
              "      background-color: #3B4455;\n",
              "      fill: #D2E3FC;\n",
              "    }\n",
              "\n",
              "    [theme=dark] .colab-df-convert:hover {\n",
              "      background-color: #434B5C;\n",
              "      box-shadow: 0px 1px 3px 1px rgba(0, 0, 0, 0.15);\n",
              "      filter: drop-shadow(0px 1px 2px rgba(0, 0, 0, 0.3));\n",
              "      fill: #FFFFFF;\n",
              "    }\n",
              "  </style>\n",
              "\n",
              "      <script>\n",
              "        const buttonEl =\n",
              "          document.querySelector('#df-b8873711-4a26-43bf-953b-82ac81b87ae0 button.colab-df-convert');\n",
              "        buttonEl.style.display =\n",
              "          google.colab.kernel.accessAllowed ? 'block' : 'none';\n",
              "\n",
              "        async function convertToInteractive(key) {\n",
              "          const element = document.querySelector('#df-b8873711-4a26-43bf-953b-82ac81b87ae0');\n",
              "          const dataTable =\n",
              "            await google.colab.kernel.invokeFunction('convertToInteractive',\n",
              "                                                     [key], {});\n",
              "          if (!dataTable) return;\n",
              "\n",
              "          const docLinkHtml = 'Like what you see? Visit the ' +\n",
              "            '<a target=\"_blank\" href=https://colab.research.google.com/notebooks/data_table.ipynb>data table notebook</a>'\n",
              "            + ' to learn more about interactive tables.';\n",
              "          element.innerHTML = '';\n",
              "          dataTable['output_type'] = 'display_data';\n",
              "          await google.colab.output.renderOutput(dataTable, element);\n",
              "          const docLink = document.createElement('div');\n",
              "          docLink.innerHTML = docLinkHtml;\n",
              "          element.appendChild(docLink);\n",
              "        }\n",
              "      </script>\n",
              "    </div>\n",
              "  </div>\n",
              "  "
            ]
          },
          "metadata": {},
          "execution_count": 3
        }
      ]
    },
    {
      "cell_type": "markdown",
      "source": [
        "## 2.1 Príprava na testovanie metód"
      ],
      "metadata": {
        "id": "ggV3WmT-eN8C"
      }
    },
    {
      "cell_type": "markdown",
      "source": [
        "### 2.1.1 Účelové funkcie \n",
        "Task A,B\n",
        "\n"
      ],
      "metadata": {
        "id": "D-UvnDvletR1"
      }
    },
    {
      "cell_type": "code",
      "source": [
        "# f1 na ladanie metod\n",
        "def f1(x, a=1):\n",
        "    M = np.diag((1, a))\n",
        "    h = np.array((a, a))\n",
        "    return 0.5 * x@M@x - x@h\n",
        "\n",
        "def df1 (x,a = 1):\n",
        "    M = np.diag((1, a))\n",
        "    h = np.array((a, a))\n",
        "    return M@x - h\n",
        "    \n",
        "def J(x):\n",
        "  sum = 0\n",
        "  for index,row in table.iterrows():\n",
        "    v = row[0]\n",
        "    u = np.array(row[1:])\n",
        "    x_u = x@u\n",
        "    sum += x_u * (1-v) +  np.log(1 + np.exp(-x_u))\n",
        "  return sum\n",
        "\n",
        "def dfJ(x):\n",
        "  sum = np.zeros_like(x)\n",
        "  for index,row in table.iterrows():\n",
        "    v = row[0]\n",
        "    u = np.array(row[1:])\n",
        "    x_u = x@u\n",
        "    sum += u * (1-v) - (np.exp(-x_u)/(1 + np.exp(-x_u))) * u\n",
        "  return sum \n"
      ],
      "metadata": {
        "id": "IiNjhuane91p"
      },
      "execution_count": 4,
      "outputs": []
    },
    {
      "cell_type": "code",
      "source": [
        "\n",
        "print(J(np.zeros(3)))\n",
        "print(dfJ(np.zeros(3)))\n",
        "print(np.exp(-0))"
      ],
      "metadata": {
        "colab": {
          "base_uri": "https://localhost:8080/"
        },
        "id": "RiUJDDx-M7Bb",
        "outputId": "1825c310-4703-4201-c4a2-d9ce3cbed02e"
      },
      "execution_count": 4,
      "outputs": [
        {
          "output_type": "stream",
          "name": "stdout",
          "text": [
            "484.5098792114029\n",
            "[-1890.5  -388.   -511. ]\n",
            "1.0\n"
          ]
        }
      ]
    },
    {
      "cell_type": "markdown",
      "source": [
        "###2.1.2 Metódy intervalovej aproximáci použité na hľadanie veľkosti kroku"
      ],
      "metadata": {
        "id": "_tZM2BBZYSoK"
      }
    },
    {
      "cell_type": "code",
      "source": [
        "def backtracking_line_search(fun, jac, x0, args=(), s=None, max_stepsize=1,\n",
        "                             rho=0.1, c=0.05, options={}):\n",
        "    \"\"\"\n",
        "    Implements the backtracking line search algorithm to find the step size alpha\n",
        "    for gradient descent.\n",
        "\n",
        "    Parameters:\n",
        "        f : callable\n",
        "            Objective function.\n",
        "        g : callable\n",
        "            Gradient function.\n",
        "        x0 : array-like\n",
        "            Current point.\n",
        "        s : array-like, optional\n",
        "            Search direction. If not provided, gradient direction is used.\n",
        "        max_stepsize : numeric, optional.\n",
        "            Initial step size. Default is 1.\n",
        "        rho : numeric, optional\n",
        "            Shrinkage factor. Nonnegative number, less than one. Default is 0.1.\n",
        "        c : numeric, optional\n",
        "            Armijo condition parameter. Default is 0.05.\n",
        "        options : dict, optional\n",
        "            A diactionary with solver options.\n",
        "                maxiter : int\n",
        "                    Maximum number of iterations to perform.\n",
        "\n",
        "    Returns\n",
        "    -------\n",
        "        stepsize : float\n",
        "            Step size that satisfies the Armijo condition.\n",
        "    \"\"\"\n",
        "\n",
        "    assert 0 < rho < 1, \"Rho parameter should be from range (0, 1)!\"\n",
        "\n",
        "    maxiter = options.get(\"maxiter\", 100)\n",
        "\n",
        "    x = np.array(x0)\n",
        "    if s is None:\n",
        "        s = -jac(x, *args)\n",
        "        df_s = -s@s\n",
        "    else:\n",
        "        df_s = jac(x, *args) @ s\n",
        "    \n",
        "    stepsize = max_stepsize\n",
        "\n",
        "    fx = fun(x, *args)\n",
        "  \n",
        "    \n",
        "    for it in range(maxiter):\n",
        "        if fun(x + stepsize*s, *args) > fx + c*stepsize*df_s:\n",
        "            stepsize *= rho\n",
        "        else:\n",
        "            return stepsize\n",
        "    \n",
        "    return stepsize"
      ],
      "metadata": {
        "id": "uzIueCuvsR9v"
      },
      "execution_count": 5,
      "outputs": []
    },
    {
      "cell_type": "code",
      "source": [
        "def bisection(dfun, bounds=None, args=(), callback=None,\n",
        "              options={}, **kwargs):\n",
        "    \"\"\"\n",
        "    Minimization method\n",
        "\n",
        "    Parameters\n",
        "    ----------\n",
        "    dfun : callable f(x, *args)\n",
        "        Derivative of objective function to minimize.\n",
        "    \n",
        "    bounds : tuple of numeric sequence\n",
        "        Two items corresponding to the optimization bounds.\n",
        "    \n",
        "    args : tuple, optional\n",
        "        Extra arguments passed to the objective function.\n",
        "    \n",
        "    callback : callable f(x), optional\n",
        "        Function called after each iteration.\n",
        "    \n",
        "    options : dict, optional\n",
        "        A diactionary with solver options.\n",
        "            maxiter : int\n",
        "                Maximum number of iterations to perform.\n",
        "            tol : float\n",
        "                Tolerance for termination\n",
        "\n",
        "    **kwargs : dict, optional\n",
        "        Other parameters passed to `bisection`.\n",
        "\n",
        "    Raises\n",
        "    ------\n",
        "    ValueError\n",
        "        if `bounds` is not provided.\n",
        "\n",
        "    Returns\n",
        "    -------\n",
        "    res : OptimizeResult\n",
        "        The optimization result represented as a OptimizeResult object.\n",
        "        Important attributes are: x the solution,\n",
        "        success a Boolean flag indicating if the optimizer exited successfully,\n",
        "        message which describes the cause of the termination.\n",
        "        See OptimizeResult for a description of other attributes.\n",
        "    \"\"\"\n",
        "    \n",
        "    if bounds is None:\n",
        "        raise ValueError(\"Must provide `bounds` parameter!\\n Tuple of numeric sequence: two items corresponding to the optimization bounds.\")\n",
        "\n",
        "    maxiter = options.get(\"maxiter\", 1000)\n",
        "    tol = options.get(\"tol\", 1e-9)\n",
        "    a, b = bounds\n",
        "\n",
        "    #print('bisection')\n",
        "    for it in range(maxiter):\n",
        "        c = (a+b)/2\n",
        "        dfc = dfun(c, *args)\n",
        "        #print(c, dfc)\n",
        "        if dfc > 0:\n",
        "          b = c\n",
        "        else:\n",
        "          a = c\n",
        "        if callback is not None:\n",
        "            midpoint = (a+b) / 2\n",
        "            callback(midpoint)\n",
        "        \n",
        "        if b - a < tol:\n",
        "            break\n",
        "    \n",
        "    \n",
        "    success = (b - a) < tol\n",
        "\n",
        "    if success:\n",
        "        msg = \"Optimization successful\"\n",
        "    else:\n",
        "        msg = \"Optimization failed\"\n",
        "    \n",
        "    return  OptimizeResult(x= (b+a)/2, nit=it, njev=it, tol=tol, success=success,message = msg)"
      ],
      "metadata": {
        "id": "S1pbqVDJFjTw"
      },
      "execution_count": 6,
      "outputs": []
    },
    {
      "cell_type": "markdown",
      "source": [
        "##2.2 TaskC"
      ],
      "metadata": {
        "id": "2yypovHfoXtE"
      }
    },
    {
      "cell_type": "markdown",
      "source": [
        "###2.2.1 bgfs"
      ],
      "metadata": {
        "id": "6dZLMiJFo1J2"
      }
    },
    {
      "cell_type": "code",
      "source": [
        "def bfgs(fun, jac, x0, stepsize_method, args=(), callback=None, options={}, **kwargs):\n",
        "    \"\"\"\n",
        "    Minimization method\n",
        "\n",
        "    Parameters\n",
        "    ----------\n",
        "    jac : callable f(x, *args)\n",
        "        Gradient of objective function.\n",
        "        \n",
        "    x0 : array-like\n",
        "        Initial guess. \n",
        "    \n",
        "    args : tuple, optional\n",
        "        Extra arguments passed to the `jac`.\n",
        "    \n",
        "    callback : callable f(x), optional\n",
        "        Function called after each iteration.\n",
        "    \n",
        "    options : dict, optional\n",
        "        A diactionary with solver options.\n",
        "            maxiter : int\n",
        "                Maximum number of iterations to perform. Default is 1000.\n",
        "            tol : float\n",
        "                Tolerance for termination. Default is 1e-8.\n",
        "            H0 : array-like\n",
        "                Initial approximation of inverse hessian. Default is\n",
        "                identity matrix.\n",
        "            max_stepsize: float\n",
        "                Maximum step size for line search. Default is 10.\n",
        "\n",
        "    **kwargs : dict, optional\n",
        "        Other parameters passed to `bfgs`.\n",
        "\n",
        "\n",
        "    Returns\n",
        "    -------\n",
        "    res : OptimizeResult\n",
        "        The optimization result represented as a OptimizeResult object.\n",
        "        Important attributes are: x the solution,\n",
        "        success a Boolean flag indicating if the optimizer exited successfully,\n",
        "        message which describes the cause of the termination.\n",
        "        See OptimizeResult for a description of other attributes.\n",
        "    \"\"\"\n",
        "\n",
        "    x = np.array(x0)\n",
        "    n = len(x)\n",
        "\n",
        "    maxiter = options.get(\"maxiter\", 1000)\n",
        "    tol = options.get(\"tol\", 1e-8)\n",
        "    H = options.get(\"H0\", np.eye(n))\n",
        "    max_stepsize = options.get(\"max_stepsize\", 10)\n",
        "\n",
        "    g = jac(x, *args)\n",
        "    for it in range(maxiter):\n",
        "        s = -H @ g\n",
        "        \n",
        "        if stepsize_method == 'bisection':\n",
        "          dzuzenie = lambda a : (jac(x + a*s, *args)) @ s\n",
        "          stepsize = bisection(dzuzenie, bounds = (0,max_stepsize)).x\n",
        "        elif stepsize_method == 'backtracking':\n",
        "          stepsize = backtracking_line_search(fun,jac,x,args,max_stepsize = max_stepsize, s = s)\n",
        "        else :\n",
        "          print('Zadaj metodu')\n",
        "      \n",
        "        x_old = x.copy()\n",
        "        g_old = g.copy()\n",
        "\n",
        "      \n",
        "        x = x + stepsize * s\n",
        "        g = jac(x, *args)\n",
        "\n",
        "        y = g - g_old\n",
        "        p = x - x_old\n",
        "\n",
        "        pTy = p@y\n",
        "        Hy = H@y\n",
        "      \n",
        "        deltaH = (1 + ( (y@H@y) / pTy ) ) * (np.outer(p,p) / pTy) - ( ( np.outer(Hy, p) + (np.outer(p,y))@H) / pTy )\n",
        "        \n",
        "        H = H + deltaH\n",
        "\n",
        "        if callback is not None:\n",
        "            callback(x)\n",
        "        \n",
        "        if np.linalg.norm(jac(x, *args)) <= tol:\n",
        "            break\n",
        "    \n",
        "    \n",
        "    success = np.linalg.norm(jac(x, *args)) <= tol\n",
        "\n",
        "    if success:\n",
        "        msg = \"Optimization successful\"\n",
        "    else:\n",
        "        msg = \"Optimization failed\"\n",
        "    \n",
        "    return OptimizeResult(x = x, nit = it + 1, njev = it + 1, success = success, message = msg)\n"
      ],
      "metadata": {
        "id": "4NC_DIL7ol97"
      },
      "execution_count": 7,
      "outputs": []
    },
    {
      "cell_type": "code",
      "source": [
        "bfgs_iterations = []\n",
        "fill_bgfs = lambda x: bfgs_iterations.append(x)\n",
        "bfgs(fun = J, jac=dfJ, x0 = np.zeros(3),stepsize_method = 'backtracking', callback=fill_bgfs, options = {'tol' : 1e-3})"
      ],
      "metadata": {
        "colab": {
          "base_uri": "https://localhost:8080/"
        },
        "id": "OAdo2KsNOa6D",
        "outputId": "10b031b9-53d9-415f-f130-8b05ab952e86"
      },
      "execution_count": 8,
      "outputs": [
        {
          "output_type": "stream",
          "name": "stderr",
          "text": [
            "<ipython-input-4-89d3f362e688>:18: RuntimeWarning: overflow encountered in exp\n",
            "  sum += x_u * (1-v) +  np.log(1 + np.exp(-x_u))\n"
          ]
        },
        {
          "output_type": "execute_result",
          "data": {
            "text/plain": [
              " message: Optimization successful\n",
              " success: True\n",
              "       x: [-4.536e-02  3.277e-01  3.462e-01]\n",
              "     nit: 8\n",
              "    njev: 8"
            ]
          },
          "metadata": {},
          "execution_count": 8
        }
      ]
    },
    {
      "cell_type": "markdown",
      "source": [
        "###2.2.2 dfp"
      ],
      "metadata": {
        "id": "Xw_a2_-lsm6-"
      }
    },
    {
      "cell_type": "code",
      "source": [
        "def dfp (fun, jac, x0, stepsize_method, args=(), callback=None, options={}, **kwargs):\n",
        "    \"\"\"\n",
        "    Minimization method\n",
        "\n",
        "    Parameters\n",
        "    ----------\n",
        "    jac : callable f(x, *args)\n",
        "        Gradient of objective function.\n",
        "        \n",
        "    x0 : array-like\n",
        "        Initial guess. \n",
        "    \n",
        "    args : tuple, optional\n",
        "        Extra arguments passed to the `jac`.\n",
        "    \n",
        "    callback : callable f(x), optional\n",
        "        Function called after each iteration.\n",
        "    \n",
        "    options : dict, optional\n",
        "        A diactionary with solver options.\n",
        "            maxiter : int\n",
        "                Maximum number of iterations to perform. Default is 1000.\n",
        "            tol : float\n",
        "                Tolerance for termination. Default is 1e-8.\n",
        "            H0 : array-like\n",
        "                Initial approximation of inverse hessian. Default is\n",
        "                identity matrix.\n",
        "            max_stepsize: float\n",
        "                Maximum step size for line search. Default is 10.\n",
        "\n",
        "    **kwargs : dict, optional\n",
        "        Other parameters passed to `bfgs`.\n",
        "\n",
        "\n",
        "    Returns\n",
        "    -------\n",
        "    res : OptimizeResult\n",
        "        The optimization result represented as a OptimizeResult object.\n",
        "        Important attributes are: x the solution,\n",
        "        success a Boolean flag indicating if the optimizer exited successfully,\n",
        "        message which describes the cause of the termination.\n",
        "        See OptimizeResult for a description of other attributes.\n",
        "    \"\"\"\n",
        "\n",
        "    x = np.array(x0)\n",
        "    n = len(x)\n",
        "\n",
        "    maxiter = options.get(\"maxiter\", 1000)\n",
        "    tol = options.get(\"tol\", 1e-8)\n",
        "    H = options.get(\"H0\", np.eye(n))\n",
        "    max_stepsize = options.get(\"max_stepsize\", 10)\n",
        "\n",
        "    g = jac(x, *args)\n",
        "    for it in range(maxiter):\n",
        "        s = -H @ g\n",
        "\n",
        "        if stepsize_method == 'bisection':\n",
        "          dzuzenie = lambda a : (jac(x + a*s, *args)) @ s\n",
        "          stepsize = bisection(dzuzenie, bounds = (0,max_stepsize)).x\n",
        "        elif stepsize_method == 'backtracking':\n",
        "          stepsize = backtracking_line_search(fun,jac,x,args,max_stepsize = max_stepsize, s = s)\n",
        "        else :\n",
        "          print('Zadaj metodu')\n",
        "        \n",
        "        x_old = x.copy()\n",
        "        g_old = g.copy()\n",
        "\n",
        "        x = x + stepsize * s\n",
        "        g = jac(x, *args)\n",
        "\n",
        "        y = g - g_old\n",
        "        p = x - x_old\n",
        "\n",
        "        Hy = H@y\n",
        "\n",
        "    \n",
        "        deltaH = ( np.outer(p,p) / (p@y) ) - ( np.outer(Hy,y@H) / (y@Hy) )  \n",
        "\n",
        "        H = H + deltaH\n",
        "\n",
        "        if callback is not None:\n",
        "            callback(x)\n",
        "        \n",
        "        if np.linalg.norm(jac(x,*args)) < tol:\n",
        "            break\n",
        "    \n",
        "    \n",
        "    success = np.linalg.norm(jac(x, *args)) < tol\n",
        "\n",
        "    if success:\n",
        "        msg = \"Optimization successful\"\n",
        "    else:\n",
        "        msg = \"Optimization failed\"\n",
        "    \n",
        "    return OptimizeResult(x = x, nit = it + 1, njev = it + 1, success = success, message = msg)\n"
      ],
      "metadata": {
        "id": "KBWUTJvY9Q1m"
      },
      "execution_count": 9,
      "outputs": []
    },
    {
      "cell_type": "code",
      "source": [
        "dfp_iterations = []\n",
        "fill_dfp = lambda x: dfp_iterations.append(x)\n",
        "dfp(fun = J, jac=dfJ, x0 = np.zeros(3), stepsize_method='backtracking', callback=fill_dfp, options = {'tol' : 1e-3})"
      ],
      "metadata": {
        "colab": {
          "base_uri": "https://localhost:8080/"
        },
        "id": "oemGUZdxFpNm",
        "outputId": "8975d910-374f-45b5-c8cd-31e43a85c73c"
      },
      "execution_count": 10,
      "outputs": [
        {
          "output_type": "stream",
          "name": "stderr",
          "text": [
            "<ipython-input-4-89d3f362e688>:18: RuntimeWarning: overflow encountered in exp\n",
            "  sum += x_u * (1-v) +  np.log(1 + np.exp(-x_u))\n"
          ]
        },
        {
          "output_type": "execute_result",
          "data": {
            "text/plain": [
              " message: Optimization successful\n",
              " success: True\n",
              "       x: [-4.536e-02  3.277e-01  3.462e-01]\n",
              "     nit: 9\n",
              "    njev: 9"
            ]
          },
          "metadata": {},
          "execution_count": 10
        }
      ]
    },
    {
      "cell_type": "markdown",
      "source": [
        "##2.3 TaskD"
      ],
      "metadata": {
        "id": "k5OiL_gWdvsp"
      }
    },
    {
      "cell_type": "code",
      "source": [
        "bfgs_iterations = []\n",
        "fill_bgfs = lambda x: bfgs_iterations.append(x)\n",
        "bfgs(fun = J, jac=dfJ, x0 = np.zeros(3), stepsize_method='bisection', callback=fill_bgfs, options = {'tol' : 1e-3,'max_stepsize' : 0.5})"
      ],
      "metadata": {
        "colab": {
          "base_uri": "https://localhost:8080/"
        },
        "outputId": "a031fa21-804e-41a4-94c6-0eff6d17f5ba",
        "id": "hETmbOdcQryI"
      },
      "execution_count": 11,
      "outputs": [
        {
          "output_type": "execute_result",
          "data": {
            "text/plain": [
              " message: Optimization successful\n",
              " success: True\n",
              "       x: [-4.536e-02  3.277e-01  3.462e-01]\n",
              "     nit: 22\n",
              "    njev: 22"
            ]
          },
          "metadata": {},
          "execution_count": 11
        }
      ]
    },
    {
      "cell_type": "code",
      "source": [
        "import time\n",
        "for step_method in 'bisection','backtracking':\n",
        "  start = time.time()\n",
        "  result = bfgs(fun = J, jac=dfJ, x0 = np.zeros(3), stepsize_method=step_method, callback=fill_bgfs, options = {'tol' : 1e-3,'max_stepsize' : 0.5})\n",
        "  print(f'bfgs with {step_method}: x:{result.x}\\n message:{result.message} \\n success={result.success} \\n nits={result.nit} \\n time: {time.time()-start}')\n",
        "  start = time.time()\n",
        "  result = dfp(fun = J, jac=dfJ, x0 = np.zeros(3), stepsize_method=step_method, callback=fill_dfp, options = {'tol' : 1e-3, 'max_stepsize' : 0.5})\n",
        "  print(f'dfp with {step_method}: x:{result.x}\\n message:{result.message} \\n success={result.success} \\n nits={result.nit} \\n time: {time.time()-start}')"
      ],
      "metadata": {
        "id": "ksHG6rLoBzwL",
        "outputId": "d5ba8b47-7c4a-470e-9b1b-4d0f5ac00e8a",
        "colab": {
          "base_uri": "https://localhost:8080/"
        }
      },
      "execution_count": 14,
      "outputs": [
        {
          "output_type": "stream",
          "name": "stdout",
          "text": [
            "bfgs with bisection: x:[-0.04536012  0.32766542  0.34624637]\n",
            " message:Optimization successful \n",
            " success=True \n",
            " nits=22 \n",
            " time: 54.39968991279602\n",
            "dfp with bisection: x:[-0.04536012  0.32766541  0.34624637]\n",
            " message:Optimization successful \n",
            " success=True \n",
            " nits=22 \n",
            " time: 55.1066358089447\n"
          ]
        },
        {
          "output_type": "stream",
          "name": "stderr",
          "text": [
            "<ipython-input-3-89d3f362e688>:18: RuntimeWarning: overflow encountered in exp\n",
            "  sum += x_u * (1-v) +  np.log(1 + np.exp(-x_u))\n"
          ]
        },
        {
          "output_type": "stream",
          "name": "stdout",
          "text": [
            "bfgs with backtracking: x:[-0.04536014  0.3276657   0.34624656]\n",
            " message:Optimization successful \n",
            " success=True \n",
            " nits=23 \n",
            " time: 10.032297134399414\n",
            "dfp with backtracking: x:[-0.04536009  0.32766513  0.34624624]\n",
            " message:Optimization successful \n",
            " success=True \n",
            " nits=24 \n",
            " time: 10.822983503341675\n"
          ]
        }
      ]
    },
    {
      "cell_type": "markdown",
      "source": [
        "##2.4 TaskE - kvázinewtonovské metódy"
      ],
      "metadata": {
        "id": "DhkimhHPVXif"
      }
    },
    {
      "cell_type": "code",
      "source": [
        "def sr1(fun, jac, x0, stepsize_method, args=(), callback=None, options={}, **kwargs):\n",
        "    \"\"\"\n",
        "    Minimization method\n",
        "\n",
        "    Parameters\n",
        "    ----------\n",
        "    jac : callable f(x, *args)\n",
        "        Gradient of objective function.\n",
        "        \n",
        "    x0 : array-like\n",
        "        Initial guess. \n",
        "    \n",
        "    args : tuple, optional\n",
        "        Extra arguments passed to the `jac`.\n",
        "    \n",
        "    callback : callable f(x), optional\n",
        "        Function called after each iteration.\n",
        "    \n",
        "    options : dict, optional\n",
        "        A diactionary with solver options.\n",
        "            maxiter : int\n",
        "                Maximum number of iterations to perform. Default is 1000.\n",
        "            tol : float\n",
        "                Tolerance for termination. Default is 1e-8.\n",
        "            H0 : array-like\n",
        "                Initial approximation of inverse hessian. Default is\n",
        "                identity matrix.\n",
        "            max_stepsize: float\n",
        "                Maximum step size for line search. Default is 10.\n",
        "\n",
        "    **kwargs : dict, optional\n",
        "        Other parameters passed to `bfgs`.\n",
        "\n",
        "\n",
        "    Returns\n",
        "    -------\n",
        "    res : OptimizeResult\n",
        "        The optimization result represented as a OptimizeResult object.\n",
        "        Important attributes are: x the solution,\n",
        "        success a Boolean flag indicating if the optimizer exited successfully,\n",
        "        message which describes the cause of the termination.\n",
        "        See OptimizeResult for a description of other attributes.\n",
        "    \"\"\"\n",
        "\n",
        "    x = np.array(x0)\n",
        "    n = len(x)\n",
        "\n",
        "    maxiter = options.get(\"maxiter\", 1000)\n",
        "    tol = options.get(\"tol\", 1e-8)\n",
        "    H = options.get(\"H0\", np.eye(n))\n",
        "    max_stepsize = options.get(\"max_stepsize\", 10)\n",
        "\n",
        "    g = jac(x, *args)\n",
        "    for it in range(maxiter):\n",
        "        s = -H @ g\n",
        "\n",
        "        dzuzenie = lambda a : (jac(x + a*s, *args)) @ s\n",
        "        if stepsize_method == 'bisection':\n",
        "          stepsize = bisection(dzuzenie, bounds = (0,max_stepsize)).x\n",
        "        elif stepsize_method == 'backtracking':\n",
        "          stepsize = backtracking_line_search(fun,jac,x,args,max_stepsize = max_stepsize, s = s)\n",
        "\n",
        "        \n",
        "        x_old = x.copy()\n",
        "        g_old = g.copy()\n",
        "\n",
        "        x = x + stepsize * s\n",
        "        g = jac(x, *args)\n",
        "\n",
        "        y = g - g_old\n",
        "        p = x - x_old\n",
        "\n",
        "        pHy = p - H@y\n",
        "        deltaH = np.outer(pHy, pHy) / (y @ (pHy))  \n",
        "\n",
        "        H = H + deltaH\n",
        "\n",
        "        if callback is not None:\n",
        "            callback(x)\n",
        "        \n",
        "        if np.linalg.norm(jac(x ,*args)) < tol:\n",
        "            break\n",
        "    \n",
        "    \n",
        "    success = np.linalg.norm(jac(x, *args)) < tol\n",
        "\n",
        "    if success:\n",
        "        msg = \"Optimization successful\"\n",
        "    else:\n",
        "        msg = \"Optimization failed\"\n",
        "    \n",
        "    return OptimizeResult(x = x, nit = it + 1, njev = it + 1, success = success, message = msg)"
      ],
      "metadata": {
        "id": "aMsHc4hOVoMa"
      },
      "execution_count": 9,
      "outputs": []
    },
    {
      "cell_type": "code",
      "source": [
        "def makeData(f, df, x0 = np.zeros(3), args = ()):  \n",
        "  def append_item(l: list, new_item):\n",
        "      l.append(new_item)\n",
        "  data = []\n",
        "\n",
        "  iter = []\n",
        "  fill_iter = lambda x: append_item(iter, x)\n",
        "  \n",
        "  bgfs_back = bfgs(fun = f, jac = df, x0 = x0, stepsize_method = 'backtracking', args = args, callback=fill_iter, options = {'tol':1e-3, })\n",
        "  solution = bgfs_back.x\n",
        "  for i in range (0,len(iter)): data.append(['bgfs_back',i, J(iter[i]) - J(solution)])\n",
        " \n",
        "\n",
        "  iter = []\n",
        "  bgfs_bis = bfgs(fun = f, jac = df, x0 = x0, stepsize_method = 'bisection', args = args, callback=fill_iter, options = {'tol':1e-3, 'max_stepsize':0.5})\n",
        "  solution = bgfs_bis.x\n",
        "  for i in range (0,len(iter)): data.append(['bgfs_bis',i, J(iter[i]) - J(solution)])\n",
        "\n",
        "\n",
        "  iter = []\n",
        "  dfp_back = dfp(fun = f, jac = df, x0 = x0, stepsize_method = 'backtracking', args = args, callback=fill_iter, options = {'tol':1e-3})\n",
        "  solution = dfp_back.x\n",
        "  for i in range (0,len(iter)): data.append(['dfp_back',i, J(iter[i]) - J(solution)])\n",
        " \n",
        "  iter = []\n",
        "  dfp_bis = dfp(fun = f, jac = df, x0 = x0, stepsize_method = 'bisection', args = args, callback=fill_iter, options = {'tol':1e-3, 'max_stepsize':0.5})\n",
        "  solution = dfp_bis.x\n",
        "  for i in range (0,len(iter)): data.append(['dfp_bis',i, J(iter[i]) - J(solution)])\n",
        "  \n",
        "\n",
        "  iter = []\n",
        "  sr1_back = sr1(fun = f, jac = df, x0 = x0, stepsize_method = 'backtracking', args = args, callback=fill_iter, options = {'tol':1e-3})\n",
        "  solution = sr1_back.x\n",
        "  for i in range (0,len(iter)): data.append(['sr1_back',i, J(iter[i]) - J(solution)])\n",
        "  \n",
        "\n",
        "  iter = []\n",
        "  sr1_bis = sr1(fun = f, jac = df, x0 = x0, stepsize_method = 'bisection', args = args, callback=fill_iter, options = {'tol':1e-3, 'max_stepsize':0.5})\n",
        "  solution = sr1_bis.x\n",
        "  for i in range (0,len(iter)): data.append(['sr1_bis',i, J(iter[i]) - J(solution)])\n",
        "  \n",
        "\n",
        "  table = pd.DataFrame(data,columns = ['Method', 'iteration', 'diffrence'])\n",
        "  return table"
      ],
      "metadata": {
        "id": "530WsZpfh5da"
      },
      "execution_count": 17,
      "outputs": []
    },
    {
      "cell_type": "markdown",
      "source": [
        "# Task H\n"
      ],
      "metadata": {
        "id": "pdfkH0CHKBD3"
      }
    },
    {
      "cell_type": "code",
      "source": [
        "def JJ(x,i = 0):\n",
        "  sum = 0\n",
        "  for index,row in table.iterrows():\n",
        "    v = row[0]\n",
        "    u = np.array([row[i]])\n",
        "    x_u = x@u\n",
        "    sum += x_u * (1-v) +  np.log(1 + np.exp(-x_u))\n",
        "  return sum\n",
        "\n",
        "def dfJJ(x,i = 0):\n",
        "  sum = np.zeros_like(x)\n",
        "  for index,row in table.iterrows():\n",
        "    v = row[0]\n",
        "    u = np.array([row[i]])\n",
        "    x_u = x@u\n",
        "    sum += u * (1-v) - (np.exp(-x_u)/(1 + np.exp(-x_u))) * u\n",
        "  return sum \n"
      ],
      "metadata": {
        "id": "vLwynCbuLINp"
      },
      "execution_count": 11,
      "outputs": []
    },
    {
      "cell_type": "code",
      "source": [
        "is_solv = lambda u,x: 1/(1 + np.exp(-x.T@[u])) > .5\n",
        "\n",
        "df = pd.DataFrame(table_test)\n",
        "\n",
        "us3 = [{'u':(\n",
        "            u['Length of current employment']), #u3\n",
        "      'expec':u['Creditability'] #expected\n",
        "            } for ind,u in df.iterrows()]\n",
        "\n",
        "us1 = [{'u':( #1, \n",
        "            u['Duration of Credit (month)']), #u1\n",
        "      'expec':u['Creditability'] #expected\n",
        "            } for ind,u in df.iterrows()]\n",
        "\n",
        "us2 = [{'u':( #1, \n",
        "            u['Value Savings/Stocks']), #u2\n",
        "      'expec':u['Creditability'] #expected\n",
        "            } for ind,u in df.iterrows()]\n",
        "\n",
        "res_bfgs = bfgs(fun = JJ, jac=dfJJ, x0 = np.zeros(1), stepsize_method='backtracking',args=(1,), callback=fill_bgfs, options = {'tol' : 1e-3,'max_stepsize' : 0.5})\n",
        "res_dfp = dfp(fun = JJ, jac=dfJJ, x0 = np.zeros(1), stepsize_method='backtracking',args=(1,), callback=fill_dfp, options = {'tol' : 1e-3})\n",
        "\n",
        "results_dfp = np.array([is_solv(u['u'], res_dfp.x) == u['expec'] for u in us1])\n",
        "\n",
        "results_bfgs = np.array([is_solv(u['u'], res_bfgs.x) == u['expec'] for u in us1])\n",
        "\n",
        "# print(results_bfgs)\n",
        "\n",
        "# compare_table = pd.DataFrame({'Method':[\n",
        "#                                         'BFGS', \n",
        "#                                         'DFP'], \n",
        "#                               'Found x':[ \n",
        "#                                         res_bfgs.x, \n",
        "#                                         res_dfp.x], \n",
        "#                               'Success rate':[  \n",
        "#                                         sum(results_dfp)/len(results_dfp), \n",
        "#                                         sum(results_bfgs)/len(results_bfgs)]\n",
        "#                               })\n",
        "\n",
        "# compare_table"
      ],
      "metadata": {
        "id": "FD3iUJq7KEkR"
      },
      "execution_count": 15,
      "outputs": []
    },
    {
      "cell_type": "code",
      "source": [
        "def plot1():\n",
        "  y = np.array([u['u'] for u in us1])\n",
        "\n",
        "  axes[0].scatter(y[resultsu], x[resultsu], color='red', label='False')\n",
        "  axes[0].scatter(y[~resultsu], x[~resultsu], color='green', label='True')\n",
        "\n",
        "  axes[0].set_title(f'Wrong/Right classification  based on {uis[0]}(bfgs) method')\n",
        "  axes[0].set_xlabel(uis[0])\n",
        "  axes[0].set_ylabel('Log value')\n",
        "  axes[0].legend()\n",
        "\n",
        "def plot2(i):\n",
        "  y = np.array([u['u'] for u in us2])\n",
        "  true_values = [data[i][True] for i in range(1, 6)]\n",
        "  false_values = [data[i][False] for i in range(1, 6)]\n",
        "  axes[i].bar(range(1, 6), true_values, width = 0.35,label=\"True\")\n",
        "  axes[i].bar([x + 0.35 for x in range(1,6)], false_values, width=0.35, label='False')\n",
        "  axes[i].set_xticks([x + 0.35/2 for x in range(1,6)])\n",
        "  axes[i].set_xticklabels(range(1,6))\n",
        "  axes[i].set_title(f'Num of True/False value classifications based on {uis[i]}(bfgs) method')\n",
        "  axes[i].set_xlabel(uis[i])\n",
        "  axes[i].set_ylabel('Sum of True/Flase')\n",
        "  axes[i].legend()\n",
        "\n",
        "\n",
        "figure,axes = plt.subplots(nrows = 3,ncols =1 ,figsize = (10,20))\n",
        "kurwa = lambda u,x: 1/(1 + np.exp(-x.T@[u]))\n",
        "i = 0\n",
        "uis = {0:'Duration of credit',1:'Value Savings/Stocks',2:'Length of current employment'}\n",
        "\n",
        "res_bfgs = bfgs(fun = JJ, jac=dfJJ, x0 = np.zeros(1), stepsize_method='backtracking',args=(i+1,), callback=fill_bgfs, options = {'tol' : 1e-3,'max_stepsize' : 0.5})\n",
        "resultsu = np.array([is_solv(u['u'], res_bfgs.x) == u['expec'] for u in us1])\n",
        "x = np.array([kurwa(u['u'], res_bfgs.x) for u in us1])\n",
        "plot1()\n",
        "\n",
        "i+=1\n",
        "\n",
        "def nulldict():\n",
        "  data = {\n",
        "      1: {True: 0, False: 0},\n",
        "      2: {True: 0, False: 0},\n",
        "      3: {True: 0, False: 0},\n",
        "      4: {True: 0, False: 0},\n",
        "      5: {True: 0, False: 0}\n",
        "  }\n",
        "  return data\n",
        "\n",
        "\n",
        "for ut in us2,us3:\n",
        "  res_bfgs = bfgs(fun = JJ, jac=dfJJ, x0 = np.zeros(1), stepsize_method='backtracking',args=(i+1,), callback=fill_bgfs, options = {'tol' : 1e-3,'max_stepsize' : 0.5})\n",
        "  data = nulldict()\n",
        "  for u in ut:\n",
        "    data[u['u']][is_solv(u['u'], res_bfgs.x) == u['expec']] += 1\n",
        "  resultsu = np.array([is_solv(u['u'], res_bfgs.x) == u['expec'] for u in ut])\n",
        "  plot2(i)\n",
        "  i+=1\n",
        "\n",
        "plt.show()"
      ],
      "metadata": {
        "id": "6OsfT-d2QlKG",
        "outputId": "cbd95583-41a9-4e49-df74-11bb3e7d9c50",
        "colab": {
          "base_uri": "https://localhost:8080/",
          "height": 1000
        }
      },
      "execution_count": 49,
      "outputs": [
        {
          "output_type": "display_data",
          "data": {
            "text/plain": [
              "<Figure size 1000x2000 with 3 Axes>"
            ],
            "image/png": "[encoded data removed]"
          },
          "metadata": {}
        }
      ]
    },
    {
      "cell_type": "code",
      "source": [
        "i = 1\n",
        "res_bfgs = bfgs(fun = JJ, jac=dfJJ, x0 = np.zeros(1), stepsize_method='backtracking',args=(i+1,), callback=fill_bgfs, options = {'tol' : 1e-3,'max_stepsize' : 0.5})\n",
        "res_dfp = dfp(fun = JJ, jac=dfJJ, x0 = np.zeros(1), stepsize_method='backtracking',args=(i+1,), callback=fill_dfp, options = {'tol' : 1e-3})\n",
        "data = {\n",
        "    1: {True: 0, False: 0},\n",
        "    2: {True: 0, False: 0},\n",
        "    3: {True: 0, False: 0},\n",
        "    4: {True: 0, False: 0},\n",
        "    5: {True: 0, False: 0}\n",
        "}\n",
        "for u in us2:\n",
        "  data[u['u']][is_solv(u['u'], res_dfp.x) == u['expec']] += 1\n",
        "\n",
        "resultsu = np.array([is_solv(u['u'], res_dfp.x) == u['expec'] for u in us2])\n",
        "y = np.array([u['u'] for u in us2])\n",
        "true_values = [data[i][True] for i in range(1, 6)]\n",
        "false_values = [data[i][False] for i in range(1, 6)]\n",
        "axes[1][0].bar(range(1, 6), true_values, label=\"True\")\n",
        "axes[1][0].bar(range(1, 6), false_values, bottom=true_values, label=\"False\")\n",
        "plt.show()"
      ],
      "metadata": {
        "id": "qm3fJYEyWwtA"
      },
      "execution_count": 31,
      "outputs": []
    }
  ]
}