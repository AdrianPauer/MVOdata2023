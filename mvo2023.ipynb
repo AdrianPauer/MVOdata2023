{
  "nbformat": 4,
  "nbformat_minor": 0,
  "metadata": {
    "colab": {
      "provenance": [],
      "toc_visible": true
    },
    "kernelspec": {
      "name": "python3",
      "display_name": "Python 3"
    },
    "language_info": {
      "name": "python"
    }
  },
  "cells": [
    {
      "cell_type": "markdown",
      "source": [
        "# Moja mama optimalizuje lepšie ako tvoja : LOG REGRESIA 2023\n"
      ],
      "metadata": {
        "id": "tRUTdfj_eYxa"
      }
    },
    {
      "cell_type": "markdown",
      "source": [
        "## 1 Ťahanie Dát"
      ],
      "metadata": {
        "id": "jjnP_S36f7Xs"
      }
    },
    {
      "cell_type": "code",
      "source": [
        "import numpy as np\n",
        "import time\n",
        "import pandas as pd\n",
        "import seaborn as sns\n",
        "import matplotlib.pyplot as plt\n",
        "from scipy.optimize import OptimizeResult"
      ],
      "metadata": {
        "id": "SV4D2cURgJ99"
      },
      "execution_count": null,
      "outputs": []
    },
    {
      "cell_type": "code",
      "source": [
        "!git clone https://github.com/AdrianPauer/MVOdata2023\n",
        "table = pd.read_csv(\"MVOdata2023/credit_risk_train.csv\",sep = ';')\n",
        "table"
      ],
      "metadata": {
        "id": "38N8OSd1ggk2",
        "colab": {
          "base_uri": "https://localhost:8080/",
          "height": 528
        },
        "outputId": "79e15064-3ca0-41d8-9d78-b58dc846025b"
      },
      "execution_count": null,
      "outputs": [
        {
          "output_type": "stream",
          "name": "stdout",
          "text": [
            "Cloning into 'MVOdata2023'...\n",
            "remote: Enumerating objects: 6, done.\u001b[K\n",
            "remote: Counting objects: 100% (6/6), done.\u001b[K\n",
            "remote: Compressing objects: 100% (4/4), done.\u001b[K\n",
            "remote: Total 6 (delta 0), reused 0 (delta 0), pack-reused 0\u001b[K\n",
            "Unpacking objects: 100% (6/6), 2.72 KiB | 1.36 MiB/s, done.\n"
          ]
        },
        {
          "output_type": "execute_result",
          "data": {
            "text/plain": [
              "     Creditability  Duration of Credit (month)  Value Savings/Stocks  \\\n",
              "0                0                          24                     1   \n",
              "1                0                          36                     1   \n",
              "2                0                           6                     4   \n",
              "3                0                          12                     1   \n",
              "4                0                          24                     3   \n",
              "..             ...                         ...                   ...   \n",
              "694              0                          20                     1   \n",
              "695              0                           9                     1   \n",
              "696              0                          18                     1   \n",
              "697              0                          24                     1   \n",
              "698              0                          36                     2   \n",
              "\n",
              "     Length of current employment  \n",
              "0                               2  \n",
              "1                               5  \n",
              "2                               2  \n",
              "3                               3  \n",
              "4                               5  \n",
              "..                            ...  \n",
              "694                             3  \n",
              "695                             3  \n",
              "696                             5  \n",
              "697                             2  \n",
              "698                             5  \n",
              "\n",
              "[699 rows x 4 columns]"
            ],
            "text/html": [
              "\n",
              "  <div id=\"df-8e0f9508-fc55-4a1d-8590-ca654e7aec92\">\n",
              "    <div class=\"colab-df-container\">\n",
              "      <div>\n",
              "<style scoped>\n",
              "    .dataframe tbody tr th:only-of-type {\n",
              "        vertical-align: middle;\n",
              "    }\n",
              "\n",
              "    .dataframe tbody tr th {\n",
              "        vertical-align: top;\n",
              "    }\n",
              "\n",
              "    .dataframe thead th {\n",
              "        text-align: right;\n",
              "    }\n",
              "</style>\n",
              "<table border=\"1\" class=\"dataframe\">\n",
              "  <thead>\n",
              "    <tr style=\"text-align: right;\">\n",
              "      <th></th>\n",
              "      <th>Creditability</th>\n",
              "      <th>Duration of Credit (month)</th>\n",
              "      <th>Value Savings/Stocks</th>\n",
              "      <th>Length of current employment</th>\n",
              "    </tr>\n",
              "  </thead>\n",
              "  <tbody>\n",
              "    <tr>\n",
              "      <th>0</th>\n",
              "      <td>0</td>\n",
              "      <td>24</td>\n",
              "      <td>1</td>\n",
              "      <td>2</td>\n",
              "    </tr>\n",
              "    <tr>\n",
              "      <th>1</th>\n",
              "      <td>0</td>\n",
              "      <td>36</td>\n",
              "      <td>1</td>\n",
              "      <td>5</td>\n",
              "    </tr>\n",
              "    <tr>\n",
              "      <th>2</th>\n",
              "      <td>0</td>\n",
              "      <td>6</td>\n",
              "      <td>4</td>\n",
              "      <td>2</td>\n",
              "    </tr>\n",
              "    <tr>\n",
              "      <th>3</th>\n",
              "      <td>0</td>\n",
              "      <td>12</td>\n",
              "      <td>1</td>\n",
              "      <td>3</td>\n",
              "    </tr>\n",
              "    <tr>\n",
              "      <th>4</th>\n",
              "      <td>0</td>\n",
              "      <td>24</td>\n",
              "      <td>3</td>\n",
              "      <td>5</td>\n",
              "    </tr>\n",
              "    <tr>\n",
              "      <th>...</th>\n",
              "      <td>...</td>\n",
              "      <td>...</td>\n",
              "      <td>...</td>\n",
              "      <td>...</td>\n",
              "    </tr>\n",
              "    <tr>\n",
              "      <th>694</th>\n",
              "      <td>0</td>\n",
              "      <td>20</td>\n",
              "      <td>1</td>\n",
              "      <td>3</td>\n",
              "    </tr>\n",
              "    <tr>\n",
              "      <th>695</th>\n",
              "      <td>0</td>\n",
              "      <td>9</td>\n",
              "      <td>1</td>\n",
              "      <td>3</td>\n",
              "    </tr>\n",
              "    <tr>\n",
              "      <th>696</th>\n",
              "      <td>0</td>\n",
              "      <td>18</td>\n",
              "      <td>1</td>\n",
              "      <td>5</td>\n",
              "    </tr>\n",
              "    <tr>\n",
              "      <th>697</th>\n",
              "      <td>0</td>\n",
              "      <td>24</td>\n",
              "      <td>1</td>\n",
              "      <td>2</td>\n",
              "    </tr>\n",
              "    <tr>\n",
              "      <th>698</th>\n",
              "      <td>0</td>\n",
              "      <td>36</td>\n",
              "      <td>2</td>\n",
              "      <td>5</td>\n",
              "    </tr>\n",
              "  </tbody>\n",
              "</table>\n",
              "<p>699 rows × 4 columns</p>\n",
              "</div>\n",
              "      <button class=\"colab-df-convert\" onclick=\"convertToInteractive('df-8e0f9508-fc55-4a1d-8590-ca654e7aec92')\"\n",
              "              title=\"Convert this dataframe to an interactive table.\"\n",
              "              style=\"display:none;\">\n",
              "        \n",
              "  <svg xmlns=\"http://www.w3.org/2000/svg\" height=\"24px\"viewBox=\"0 0 24 24\"\n",
              "       width=\"24px\">\n",
              "    <path d=\"M0 0h24v24H0V0z\" fill=\"none\"/>\n",
              "    <path d=\"M18.56 5.44l.94 2.06.94-2.06 2.06-.94-2.06-.94-.94-2.06-.94 2.06-2.06.94zm-11 1L8.5 8.5l.94-2.06 2.06-.94-2.06-.94L8.5 2.5l-.94 2.06-2.06.94zm10 10l.94 2.06.94-2.06 2.06-.94-2.06-.94-.94-2.06-.94 2.06-2.06.94z\"/><path d=\"M17.41 7.96l-1.37-1.37c-.4-.4-.92-.59-1.43-.59-.52 0-1.04.2-1.43.59L10.3 9.45l-7.72 7.72c-.78.78-.78 2.05 0 2.83L4 21.41c.39.39.9.59 1.41.59.51 0 1.02-.2 1.41-.59l7.78-7.78 2.81-2.81c.8-.78.8-2.07 0-2.86zM5.41 20L4 18.59l7.72-7.72 1.47 1.35L5.41 20z\"/>\n",
              "  </svg>\n",
              "      </button>\n",
              "      \n",
              "  <style>\n",
              "    .colab-df-container {\n",
              "      display:flex;\n",
              "      flex-wrap:wrap;\n",
              "      gap: 12px;\n",
              "    }\n",
              "\n",
              "    .colab-df-convert {\n",
              "      background-color: #E8F0FE;\n",
              "      border: none;\n",
              "      border-radius: 50%;\n",
              "      cursor: pointer;\n",
              "      display: none;\n",
              "      fill: #1967D2;\n",
              "      height: 32px;\n",
              "      padding: 0 0 0 0;\n",
              "      width: 32px;\n",
              "    }\n",
              "\n",
              "    .colab-df-convert:hover {\n",
              "      background-color: #E2EBFA;\n",
              "      box-shadow: 0px 1px 2px rgba(60, 64, 67, 0.3), 0px 1px 3px 1px rgba(60, 64, 67, 0.15);\n",
              "      fill: #174EA6;\n",
              "    }\n",
              "\n",
              "    [theme=dark] .colab-df-convert {\n",
              "      background-color: #3B4455;\n",
              "      fill: #D2E3FC;\n",
              "    }\n",
              "\n",
              "    [theme=dark] .colab-df-convert:hover {\n",
              "      background-color: #434B5C;\n",
              "      box-shadow: 0px 1px 3px 1px rgba(0, 0, 0, 0.15);\n",
              "      filter: drop-shadow(0px 1px 2px rgba(0, 0, 0, 0.3));\n",
              "      fill: #FFFFFF;\n",
              "    }\n",
              "  </style>\n",
              "\n",
              "      <script>\n",
              "        const buttonEl =\n",
              "          document.querySelector('#df-8e0f9508-fc55-4a1d-8590-ca654e7aec92 button.colab-df-convert');\n",
              "        buttonEl.style.display =\n",
              "          google.colab.kernel.accessAllowed ? 'block' : 'none';\n",
              "\n",
              "        async function convertToInteractive(key) {\n",
              "          const element = document.querySelector('#df-8e0f9508-fc55-4a1d-8590-ca654e7aec92');\n",
              "          const dataTable =\n",
              "            await google.colab.kernel.invokeFunction('convertToInteractive',\n",
              "                                                     [key], {});\n",
              "          if (!dataTable) return;\n",
              "\n",
              "          const docLinkHtml = 'Like what you see? Visit the ' +\n",
              "            '<a target=\"_blank\" href=https://colab.research.google.com/notebooks/data_table.ipynb>data table notebook</a>'\n",
              "            + ' to learn more about interactive tables.';\n",
              "          element.innerHTML = '';\n",
              "          dataTable['output_type'] = 'display_data';\n",
              "          await google.colab.output.renderOutput(dataTable, element);\n",
              "          const docLink = document.createElement('div');\n",
              "          docLink.innerHTML = docLinkHtml;\n",
              "          element.appendChild(docLink);\n",
              "        }\n",
              "      </script>\n",
              "    </div>\n",
              "  </div>\n",
              "  "
            ]
          },
          "metadata": {},
          "execution_count": 3
        }
      ]
    },
    {
      "cell_type": "markdown",
      "source": [
        "## 2.1 Príprava na testovanie metód"
      ],
      "metadata": {
        "id": "ggV3WmT-eN8C"
      }
    },
    {
      "cell_type": "markdown",
      "source": [
        "### 2.1.1 Účelové funkcie \n",
        "Task A,B\n",
        "\n"
      ],
      "metadata": {
        "id": "D-UvnDvletR1"
      }
    },
    {
      "cell_type": "code",
      "source": [
        "# f1 na ladanie metod\n",
        "def f1(x, a=1):\n",
        "    M = np.diag((1, a))\n",
        "    h = np.array((a, a))\n",
        "    return 0.5 * x@M@x - x@h\n",
        "\n",
        "def df1 (x,a = 1):\n",
        "    M = np.diag((1, a))\n",
        "    h = np.array((a, a))\n",
        "    return M@x - h\n",
        "\n",
        "def J(x):\n",
        "  sum = 0\n",
        "  for index,row in table.iterrows():\n",
        "    v = row[0]\n",
        "    u = np.array(row[1:])\n",
        "    x_u = x@u\n",
        "    sum += x_u * (1-v) +  np.log(1 + np.exp(-x_u))\n",
        "  return sum\n",
        "\n",
        "def dfJ(x):\n",
        "  sum = np.zeros_like(x)\n",
        "  for index,row in table.iterrows():\n",
        "    v = row[0]\n",
        "    u = np.array(row[1:])\n",
        "    x_u = x@u\n",
        "    sum += u * (1-v) - (np.exp(-x_u)/(1 + np.exp(-x_u))) * u\n",
        "  return sum \n"
      ],
      "metadata": {
        "id": "IiNjhuane91p"
      },
      "execution_count": null,
      "outputs": []
    },
    {
      "cell_type": "code",
      "source": [
        "\n",
        "print(J(np.zeros(3)))\n",
        "print(dfJ(np.zeros(3)))\n",
        "print(np.exp(-0))"
      ],
      "metadata": {
        "colab": {
          "base_uri": "https://localhost:8080/"
        },
        "id": "RiUJDDx-M7Bb",
        "outputId": "037e38f4-ff17-4bc3-d7fb-05ccc258229b"
      },
      "execution_count": null,
      "outputs": [
        {
          "output_type": "stream",
          "name": "stdout",
          "text": [
            "484.5098792114029\n",
            "[-1890.5  -388.   -511. ]\n",
            "1.0\n"
          ]
        }
      ]
    },
    {
      "cell_type": "markdown",
      "source": [
        "##2.2 TaskC"
      ],
      "metadata": {
        "id": "2yypovHfoXtE"
      }
    },
    {
      "cell_type": "markdown",
      "source": [
        "###2.2.1 bgfs"
      ],
      "metadata": {
        "id": "6dZLMiJFo1J2"
      }
    },
    {
      "cell_type": "code",
      "source": [
        "def backtracking_line_search(fun, jac, x0, args=(), s=None, max_stepsize=1,\n",
        "                             rho=0.1, c=0.05, options={}):\n",
        "    \"\"\"\n",
        "    Implements the backtracking line search algorithm to find the step size alpha\n",
        "    for gradient descent.\n",
        "\n",
        "    Parameters:\n",
        "        f : callable\n",
        "            Objective function.\n",
        "        g : callable\n",
        "            Gradient function.\n",
        "        x0 : array-like\n",
        "            Current point.\n",
        "        s : array-like, optional\n",
        "            Search direction. If not provided, gradient direction is used.\n",
        "        max_stepsize : numeric, optional.\n",
        "            Initial step size. Default is 1.\n",
        "        rho : numeric, optional\n",
        "            Shrinkage factor. Nonnegative number, less than one. Default is 0.1.\n",
        "        c : numeric, optional\n",
        "            Armijo condition parameter. Default is 0.05.\n",
        "        options : dict, optional\n",
        "            A diactionary with solver options.\n",
        "                maxiter : int\n",
        "                    Maximum number of iterations to perform.\n",
        "\n",
        "    Returns\n",
        "    -------\n",
        "        stepsize : float\n",
        "            Step size that satisfies the Armijo condition.\n",
        "    \"\"\"\n",
        "\n",
        "    assert 0 < rho < 1, \"Rho parameter should be from range (0, 1)!\"\n",
        "\n",
        "    maxiter = options.get(\"maxiter\", 100)\n",
        "\n",
        "    x = np.array(x0)\n",
        "    if s is None:\n",
        "        s = -jac(x, *args)\n",
        "        df_s = -s@s\n",
        "    else:\n",
        "        df_s = jac(x, *args) @ s\n",
        "    \n",
        "    stepsize = max_stepsize\n",
        "\n",
        "    fx = fun(x, *args)\n",
        "  \n",
        "    \n",
        "    for it in range(maxiter):\n",
        "        if fun(x + stepsize*s, *args) > fx + c*stepsize*df_s:\n",
        "            stepsize *= rho\n",
        "        else:\n",
        "            return stepsize\n",
        "    \n",
        "    return stepsize"
      ],
      "metadata": {
        "id": "uzIueCuvsR9v"
      },
      "execution_count": null,
      "outputs": []
    },
    {
      "cell_type": "code",
      "source": [
        "def bfgs(fun, jac, x0, args=(), callback=None, options={}, **kwargs):\n",
        "    \"\"\"\n",
        "    Minimization method\n",
        "\n",
        "    Parameters\n",
        "    ----------\n",
        "    jac : callable f(x, *args)\n",
        "        Gradient of objective function.\n",
        "        \n",
        "    x0 : array-like\n",
        "        Initial guess. \n",
        "    \n",
        "    args : tuple, optional\n",
        "        Extra arguments passed to the `jac`.\n",
        "    \n",
        "    callback : callable f(x), optional\n",
        "        Function called after each iteration.\n",
        "    \n",
        "    options : dict, optional\n",
        "        A diactionary with solver options.\n",
        "            maxiter : int\n",
        "                Maximum number of iterations to perform. Default is 1000.\n",
        "            tol : float\n",
        "                Tolerance for termination. Default is 1e-8.\n",
        "            H0 : array-like\n",
        "                Initial approximation of inverse hessian. Default is\n",
        "                identity matrix.\n",
        "            max_stepsize: float\n",
        "                Maximum step size for line search. Default is 10.\n",
        "\n",
        "    **kwargs : dict, optional\n",
        "        Other parameters passed to `bfgs`.\n",
        "\n",
        "\n",
        "    Returns\n",
        "    -------\n",
        "    res : OptimizeResult\n",
        "        The optimization result represented as a OptimizeResult object.\n",
        "        Important attributes are: x the solution,\n",
        "        success a Boolean flag indicating if the optimizer exited successfully,\n",
        "        message which describes the cause of the termination.\n",
        "        See OptimizeResult for a description of other attributes.\n",
        "    \"\"\"\n",
        "\n",
        "    x = np.array(x0)\n",
        "    n = len(x)\n",
        "\n",
        "    maxiter = options.get(\"maxiter\", 1000)\n",
        "    tol = options.get(\"tol\", 1e-8)\n",
        "    H = options.get(\"H0\", np.eye(n))\n",
        "    max_stepsize = options.get(\"max_stepsize\", 10)\n",
        "\n",
        "    g = jac(x, *args)\n",
        "    for it in range(maxiter):\n",
        "        s = -H @ g\n",
        "\n",
        "        zuzenie = lambda a: fun(x + a*s,*args)\n",
        "        dzuzenie = lambda a : jac(x + a*s, *args) * s\n",
        "\n",
        "        stepsize = backtracking_line_search(zuzenie,dzuzenie,x,args,max_stepsize = 1, s = s)\n",
        "      \n",
        "        x_old = x.copy()\n",
        "        g_old = g.copy()\n",
        "\n",
        "      \n",
        "        x = x + stepsize * s\n",
        "        #print(stepsize, x)\n",
        "        g = jac(x, *args)\n",
        "\n",
        "        y = g - g_old\n",
        "        p = x - x_old\n",
        "\n",
        "        pTy = p@y\n",
        "        Hy = H@y\n",
        "      \n",
        "        deltaH = (1 + ( (y@H@y) / pTy ) ) * (np.outer(p,p) / pTy) - ( ( np.outer(Hy, p) + (np.outer(p,y))@H) / pTy )\n",
        "        \n",
        "        H = H + deltaH\n",
        "\n",
        "        if callback is not None:\n",
        "            callback(x)\n",
        "        \n",
        "        if np.linalg.norm(jac(x, *args)) <= tol:\n",
        "            break\n",
        "    \n",
        "    \n",
        "    success = np.linalg.norm(jac(x, *args)) <= tol\n",
        "\n",
        "    if success:\n",
        "        msg = \"Optimization successful\"\n",
        "    else:\n",
        "        msg = \"Optimization failed\"\n",
        "    \n",
        "    return OptimizeResult(x = x, nit = it + 1, njev = it + 1, success = success, message = msg)\n"
      ],
      "metadata": {
        "id": "4NC_DIL7ol97"
      },
      "execution_count": null,
      "outputs": []
    },
    {
      "cell_type": "code",
      "source": [
        "bfgs_iterations = []\n",
        "fill_bgfs = lambda x: bfgs_iterations.append(x)\n",
        "bfgs(fun = J, jac=dfJ, x0 = np.zeros(3), callback=fill_bgfs, options = {'tol' : 1e-3})"
      ],
      "metadata": {
        "colab": {
          "base_uri": "https://localhost:8080/"
        },
        "id": "OAdo2KsNOa6D",
        "outputId": "1a4b86da-1965-4ee4-f520-a17bade11976"
      },
      "execution_count": null,
      "outputs": [
        {
          "output_type": "stream",
          "name": "stdout",
          "text": [
            "[0. 0. 0.] 484.5098792114029\n",
            "[1.8905e-05 3.8800e-06 5.1100e-06] 485.3362021647321\n",
            "[-3.48654601e-05  2.46818878e-04  2.80877403e-04] 484.1384710624063\n",
            "[-0.00166498 -0.03463503  0.0366589 ] 487.39071003413574\n",
            "[-0.0040801  -0.01083558  0.05264288] 465.59426886516604\n",
            "[-0.03533421  0.23378575  0.2912046 ] 390.25188763915645\n",
            "[-0.04203863  0.29020902  0.33144828] 388.387505293396\n",
            "[-0.04506805  0.32130541  0.34644183] 388.1866051367826\n",
            "[-0.04538257  0.32680964  0.34687675] 388.183417605291\n",
            "[-0.04537399  0.32755619  0.34643404] 388.18335518564436\n",
            "[-0.04536188  0.32767098  0.34626089] 388.18335152052856\n",
            "[-0.0453602   0.32766663  0.34624663] 388.1833514830638\n",
            "[-0.0453602   0.32766662  0.34624663] 388.18335148305925\n"
          ]
        },
        {
          "output_type": "execute_result",
          "data": {
            "text/plain": [
              " message: Optimization successful\n",
              " success: True\n",
              "       x: [-4.536e-02  3.277e-01  3.462e-01]\n",
              "     nit: 13\n",
              "    njev: 13"
            ]
          },
          "metadata": {},
          "execution_count": 38
        }
      ]
    },
    {
      "cell_type": "markdown",
      "source": [
        "###2.2.2 dfp"
      ],
      "metadata": {
        "id": "Xw_a2_-lsm6-"
      }
    },
    {
      "cell_type": "code",
      "source": [
        "def dfp (fun, jac, x0, args=(), callback=None, options={}, **kwargs):\n",
        "    \"\"\"\n",
        "    Minimization method\n",
        "\n",
        "    Parameters\n",
        "    ----------\n",
        "    jac : callable f(x, *args)\n",
        "        Gradient of objective function.\n",
        "        \n",
        "    x0 : array-like\n",
        "        Initial guess. \n",
        "    \n",
        "    args : tuple, optional\n",
        "        Extra arguments passed to the `jac`.\n",
        "    \n",
        "    callback : callable f(x), optional\n",
        "        Function called after each iteration.\n",
        "    \n",
        "    options : dict, optional\n",
        "        A diactionary with solver options.\n",
        "            maxiter : int\n",
        "                Maximum number of iterations to perform. Default is 1000.\n",
        "            tol : float\n",
        "                Tolerance for termination. Default is 1e-8.\n",
        "            H0 : array-like\n",
        "                Initial approximation of inverse hessian. Default is\n",
        "                identity matrix.\n",
        "            max_stepsize: float\n",
        "                Maximum step size for line search. Default is 10.\n",
        "\n",
        "    **kwargs : dict, optional\n",
        "        Other parameters passed to `bfgs`.\n",
        "\n",
        "\n",
        "    Returns\n",
        "    -------\n",
        "    res : OptimizeResult\n",
        "        The optimization result represented as a OptimizeResult object.\n",
        "        Important attributes are: x the solution,\n",
        "        success a Boolean flag indicating if the optimizer exited successfully,\n",
        "        message which describes the cause of the termination.\n",
        "        See OptimizeResult for a description of other attributes.\n",
        "    \"\"\"\n",
        "\n",
        "    x = np.array(x0)\n",
        "    n = len(x)\n",
        "\n",
        "    maxiter = options.get(\"maxiter\", 1000)\n",
        "    tol = options.get(\"tol\", 1e-8)\n",
        "    H = options.get(\"H0\", np.eye(n))\n",
        "    max_stepsize = options.get(\"max_stepsize\", 10)\n",
        "\n",
        "    g = jac(x, *args)\n",
        "    for it in range(maxiter):\n",
        "        s = -H @ g\n",
        "\n",
        "        zuzenie = lambda a: fun(x + a*s,*args)\n",
        "        dzuzenie = lambda a : jac(x + a*s, *args) * s\n",
        "\n",
        "        stepsize = backtracking_line_search(zuzenie,dzuzenie,x,args,max_stepsize = 1, s = s)\n",
        "        \n",
        "        x_old = x.copy()\n",
        "        g_old = g.copy()\n",
        "\n",
        "        x = x + stepsize * s\n",
        "        g = jac(x, *args)\n",
        "\n",
        "        y = g - g_old\n",
        "        p = x - x_old\n",
        "\n",
        "        Hy = H@y\n",
        "\n",
        "    \n",
        "        deltaH = ( np.outer(p,p) / (p@y) ) - ( np.outer(Hy,y@H) / (y@Hy) )  \n",
        "\n",
        "        H = H + deltaH\n",
        "\n",
        "        if callback is not None:\n",
        "            callback(x)\n",
        "        \n",
        "        if np.linalg.norm(jac(x,*args)) < tol:\n",
        "            break\n",
        "    \n",
        "    \n",
        "    success = np.linalg.norm(jac(x, *args)) < tol\n",
        "\n",
        "    if success:\n",
        "        msg = \"Optimization successful\"\n",
        "    else:\n",
        "        msg = \"Optimization failed\"\n",
        "    \n",
        "    return OptimizeResult(x = x, nit = it + 1, njev = it + 1, success = success, message = msg)\n"
      ],
      "metadata": {
        "id": "KBWUTJvY9Q1m"
      },
      "execution_count": null,
      "outputs": []
    },
    {
      "cell_type": "code",
      "source": [
        "dfp_iterations = []\n",
        "fill_dfp = lambda x: dfp_iterations.append(x)\n",
        "dfp(fun = J, jac=dfJ, x0 = np.zeros(3), callback=fill_dfp, options = {'tol' : 1e-3})"
      ],
      "metadata": {
        "colab": {
          "base_uri": "https://localhost:8080/"
        },
        "id": "oemGUZdxFpNm",
        "outputId": "3d37eb1c-b814-49d8-9679-e473ddcc987d"
      },
      "execution_count": null,
      "outputs": [
        {
          "output_type": "stream",
          "name": "stdout",
          "text": [
            "[0. 0. 0.] 484.5098792114029\n",
            "[1.8905e-05 3.8800e-06 5.1100e-06] 485.30711393588444\n",
            "[-3.31223675e-05  2.38946317e-04  2.71941039e-04] 484.1493059600406\n",
            "[-0.00166272 -0.03462458  0.0366336 ] 481.80950774640746\n",
            "[-0.03590396  0.24056581  0.29443872] 389.97136538853226\n",
            "[-0.04214883  0.29194748  0.33175114] 388.37062120281496\n",
            "[-0.0451062   0.32184355  0.34653775] 388.1860279593485\n",
            "[-0.04538421  0.32685258  0.3468689 ] 388.1834137826862\n",
            "[-0.04537424  0.32755837  0.3464353 ] 388.1833552248884\n",
            "[-0.04536215  0.32767241  0.34626295] 388.18335153280606\n",
            "[-0.04536215  0.32767241  0.34626295] 388.1833515330311\n"
          ]
        },
        {
          "output_type": "execute_result",
          "data": {
            "text/plain": [
              " message: Optimization successful\n",
              " success: True\n",
              "       x: [-4.536e-02  3.277e-01  3.462e-01]\n",
              "     nit: 11\n",
              "    njev: 11"
            ]
          },
          "metadata": {},
          "execution_count": 40
        }
      ]
    },
    {
      "cell_type": "markdown",
      "source": [
        "##2.3 TaskD"
      ],
      "metadata": {
        "id": "k5OiL_gWdvsp"
      }
    },
    {
      "cell_type": "code",
      "source": [],
      "metadata": {
        "id": "sS-WgCAid2zH"
      },
      "execution_count": null,
      "outputs": []
    }
  ]
}