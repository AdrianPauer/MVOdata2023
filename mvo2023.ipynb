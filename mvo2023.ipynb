{
  "nbformat": 4,
  "nbformat_minor": 0,
  "metadata": {
    "colab": {
      "provenance": [],
      "toc_visible": true,
      "authorship_tag": "ABX9TyNvzQ+xmPCGQhAAUeBf6IMH",
      "include_colab_link": true
    },
    "kernelspec": {
      "name": "python3",
      "display_name": "Python 3"
    },
    "language_info": {
      "name": "python"
    }
  },
  "cells": [
    {
      "cell_type": "markdown",
      "metadata": {
        "id": "view-in-github",
        "colab_type": "text"
      },
      "source": [
        "<a href=\"https://colab.research.google.com/github/AdrianPauer/MVOdata2023/blob/main/mvo2023.ipynb\" target=\"_parent\"><img src=\"https://colab.research.google.com/assets/colab-badge.svg\" alt=\"Open In Colab\"/></a>"
      ]
    },
    {
      "cell_type": "markdown",
      "source": [
        "# Moja mama optimalizuje lepšie ako tvoja : LOG REGRESIA 2023\n"
      ],
      "metadata": {
        "id": "tRUTdfj_eYxa"
      }
    },
    {
      "cell_type": "markdown",
      "source": [
        "## 1 Ťahanie Dát"
      ],
      "metadata": {
        "id": "jjnP_S36f7Xs"
      }
    },
    {
      "cell_type": "code",
      "source": [
        "import numpy as np\n",
        "import time\n",
        "import pandas as pd\n",
        "import seaborn as sns\n",
        "import matplotlib.pyplot as plt\n",
        "import seaborn as sns\n",
        "from scipy.optimize import OptimizeResult"
      ],
      "metadata": {
        "id": "SV4D2cURgJ99"
      },
      "execution_count": null,
      "outputs": []
    },
    {
      "cell_type": "code",
      "source": [
        "!git clone https://github.com/AdrianPauer/MVOdata2023\n",
        "table = pd.read_csv(\"MVOdata2023/credit_risk_train.csv\",sep = ';')\n",
        "table"
      ],
      "metadata": {
        "id": "38N8OSd1ggk2",
        "colab": {
          "base_uri": "https://localhost:8080/",
          "height": 441
        },
        "outputId": "87fd0e2f-6a41-4f87-fc39-f890b2ba3c9a"
      },
      "execution_count": null,
      "outputs": [
        {
          "output_type": "stream",
          "name": "stdout",
          "text": [
            "fatal: destination path 'MVOdata2023' already exists and is not an empty directory.\n"
          ]
        },
        {
          "output_type": "execute_result",
          "data": {
            "text/plain": [
              "     Creditability  Duration of Credit (month)  Value Savings/Stocks  \\\n",
              "0                0                          24                     1   \n",
              "1                0                          36                     1   \n",
              "2                0                           6                     4   \n",
              "3                0                          12                     1   \n",
              "4                0                          24                     3   \n",
              "..             ...                         ...                   ...   \n",
              "694              0                          20                     1   \n",
              "695              0                           9                     1   \n",
              "696              0                          18                     1   \n",
              "697              0                          24                     1   \n",
              "698              0                          36                     2   \n",
              "\n",
              "     Length of current employment  \n",
              "0                               2  \n",
              "1                               5  \n",
              "2                               2  \n",
              "3                               3  \n",
              "4                               5  \n",
              "..                            ...  \n",
              "694                             3  \n",
              "695                             3  \n",
              "696                             5  \n",
              "697                             2  \n",
              "698                             5  \n",
              "\n",
              "[699 rows x 4 columns]"
            ],
            "text/html": [
              "\n",
              "  <div id=\"df-7bbb5914-856f-4b90-95bc-e6b32548a0e3\">\n",
              "    <div class=\"colab-df-container\">\n",
              "      <div>\n",
              "<style scoped>\n",
              "    .dataframe tbody tr th:only-of-type {\n",
              "        vertical-align: middle;\n",
              "    }\n",
              "\n",
              "    .dataframe tbody tr th {\n",
              "        vertical-align: top;\n",
              "    }\n",
              "\n",
              "    .dataframe thead th {\n",
              "        text-align: right;\n",
              "    }\n",
              "</style>\n",
              "<table border=\"1\" class=\"dataframe\">\n",
              "  <thead>\n",
              "    <tr style=\"text-align: right;\">\n",
              "      <th></th>\n",
              "      <th>Creditability</th>\n",
              "      <th>Duration of Credit (month)</th>\n",
              "      <th>Value Savings/Stocks</th>\n",
              "      <th>Length of current employment</th>\n",
              "    </tr>\n",
              "  </thead>\n",
              "  <tbody>\n",
              "    <tr>\n",
              "      <th>0</th>\n",
              "      <td>0</td>\n",
              "      <td>24</td>\n",
              "      <td>1</td>\n",
              "      <td>2</td>\n",
              "    </tr>\n",
              "    <tr>\n",
              "      <th>1</th>\n",
              "      <td>0</td>\n",
              "      <td>36</td>\n",
              "      <td>1</td>\n",
              "      <td>5</td>\n",
              "    </tr>\n",
              "    <tr>\n",
              "      <th>2</th>\n",
              "      <td>0</td>\n",
              "      <td>6</td>\n",
              "      <td>4</td>\n",
              "      <td>2</td>\n",
              "    </tr>\n",
              "    <tr>\n",
              "      <th>3</th>\n",
              "      <td>0</td>\n",
              "      <td>12</td>\n",
              "      <td>1</td>\n",
              "      <td>3</td>\n",
              "    </tr>\n",
              "    <tr>\n",
              "      <th>4</th>\n",
              "      <td>0</td>\n",
              "      <td>24</td>\n",
              "      <td>3</td>\n",
              "      <td>5</td>\n",
              "    </tr>\n",
              "    <tr>\n",
              "      <th>...</th>\n",
              "      <td>...</td>\n",
              "      <td>...</td>\n",
              "      <td>...</td>\n",
              "      <td>...</td>\n",
              "    </tr>\n",
              "    <tr>\n",
              "      <th>694</th>\n",
              "      <td>0</td>\n",
              "      <td>20</td>\n",
              "      <td>1</td>\n",
              "      <td>3</td>\n",
              "    </tr>\n",
              "    <tr>\n",
              "      <th>695</th>\n",
              "      <td>0</td>\n",
              "      <td>9</td>\n",
              "      <td>1</td>\n",
              "      <td>3</td>\n",
              "    </tr>\n",
              "    <tr>\n",
              "      <th>696</th>\n",
              "      <td>0</td>\n",
              "      <td>18</td>\n",
              "      <td>1</td>\n",
              "      <td>5</td>\n",
              "    </tr>\n",
              "    <tr>\n",
              "      <th>697</th>\n",
              "      <td>0</td>\n",
              "      <td>24</td>\n",
              "      <td>1</td>\n",
              "      <td>2</td>\n",
              "    </tr>\n",
              "    <tr>\n",
              "      <th>698</th>\n",
              "      <td>0</td>\n",
              "      <td>36</td>\n",
              "      <td>2</td>\n",
              "      <td>5</td>\n",
              "    </tr>\n",
              "  </tbody>\n",
              "</table>\n",
              "<p>699 rows × 4 columns</p>\n",
              "</div>\n",
              "      <button class=\"colab-df-convert\" onclick=\"convertToInteractive('df-7bbb5914-856f-4b90-95bc-e6b32548a0e3')\"\n",
              "              title=\"Convert this dataframe to an interactive table.\"\n",
              "              style=\"display:none;\">\n",
              "        \n",
              "  <svg xmlns=\"http://www.w3.org/2000/svg\" height=\"24px\"viewBox=\"0 0 24 24\"\n",
              "       width=\"24px\">\n",
              "    <path d=\"M0 0h24v24H0V0z\" fill=\"none\"/>\n",
              "    <path d=\"M18.56 5.44l.94 2.06.94-2.06 2.06-.94-2.06-.94-.94-2.06-.94 2.06-2.06.94zm-11 1L8.5 8.5l.94-2.06 2.06-.94-2.06-.94L8.5 2.5l-.94 2.06-2.06.94zm10 10l.94 2.06.94-2.06 2.06-.94-2.06-.94-.94-2.06-.94 2.06-2.06.94z\"/><path d=\"M17.41 7.96l-1.37-1.37c-.4-.4-.92-.59-1.43-.59-.52 0-1.04.2-1.43.59L10.3 9.45l-7.72 7.72c-.78.78-.78 2.05 0 2.83L4 21.41c.39.39.9.59 1.41.59.51 0 1.02-.2 1.41-.59l7.78-7.78 2.81-2.81c.8-.78.8-2.07 0-2.86zM5.41 20L4 18.59l7.72-7.72 1.47 1.35L5.41 20z\"/>\n",
              "  </svg>\n",
              "      </button>\n",
              "      \n",
              "  <style>\n",
              "    .colab-df-container {\n",
              "      display:flex;\n",
              "      flex-wrap:wrap;\n",
              "      gap: 12px;\n",
              "    }\n",
              "\n",
              "    .colab-df-convert {\n",
              "      background-color: #E8F0FE;\n",
              "      border: none;\n",
              "      border-radius: 50%;\n",
              "      cursor: pointer;\n",
              "      display: none;\n",
              "      fill: #1967D2;\n",
              "      height: 32px;\n",
              "      padding: 0 0 0 0;\n",
              "      width: 32px;\n",
              "    }\n",
              "\n",
              "    .colab-df-convert:hover {\n",
              "      background-color: #E2EBFA;\n",
              "      box-shadow: 0px 1px 2px rgba(60, 64, 67, 0.3), 0px 1px 3px 1px rgba(60, 64, 67, 0.15);\n",
              "      fill: #174EA6;\n",
              "    }\n",
              "\n",
              "    [theme=dark] .colab-df-convert {\n",
              "      background-color: #3B4455;\n",
              "      fill: #D2E3FC;\n",
              "    }\n",
              "\n",
              "    [theme=dark] .colab-df-convert:hover {\n",
              "      background-color: #434B5C;\n",
              "      box-shadow: 0px 1px 3px 1px rgba(0, 0, 0, 0.15);\n",
              "      filter: drop-shadow(0px 1px 2px rgba(0, 0, 0, 0.3));\n",
              "      fill: #FFFFFF;\n",
              "    }\n",
              "  </style>\n",
              "\n",
              "      <script>\n",
              "        const buttonEl =\n",
              "          document.querySelector('#df-7bbb5914-856f-4b90-95bc-e6b32548a0e3 button.colab-df-convert');\n",
              "        buttonEl.style.display =\n",
              "          google.colab.kernel.accessAllowed ? 'block' : 'none';\n",
              "\n",
              "        async function convertToInteractive(key) {\n",
              "          const element = document.querySelector('#df-7bbb5914-856f-4b90-95bc-e6b32548a0e3');\n",
              "          const dataTable =\n",
              "            await google.colab.kernel.invokeFunction('convertToInteractive',\n",
              "                                                     [key], {});\n",
              "          if (!dataTable) return;\n",
              "\n",
              "          const docLinkHtml = 'Like what you see? Visit the ' +\n",
              "            '<a target=\"_blank\" href=https://colab.research.google.com/notebooks/data_table.ipynb>data table notebook</a>'\n",
              "            + ' to learn more about interactive tables.';\n",
              "          element.innerHTML = '';\n",
              "          dataTable['output_type'] = 'display_data';\n",
              "          await google.colab.output.renderOutput(dataTable, element);\n",
              "          const docLink = document.createElement('div');\n",
              "          docLink.innerHTML = docLinkHtml;\n",
              "          element.appendChild(docLink);\n",
              "        }\n",
              "      </script>\n",
              "    </div>\n",
              "  </div>\n",
              "  "
            ]
          },
          "metadata": {},
          "execution_count": 110
        }
      ]
    },
    {
      "cell_type": "markdown",
      "source": [
        "## 2.1 Príprava na testovanie metód"
      ],
      "metadata": {
        "id": "ggV3WmT-eN8C"
      }
    },
    {
      "cell_type": "markdown",
      "source": [
        "### 2.1.1 Účelové funkcie \n",
        "Task A,B\n",
        "\n"
      ],
      "metadata": {
        "id": "D-UvnDvletR1"
      }
    },
    {
      "cell_type": "code",
      "source": [
        "# f1 na ladanie metod\n",
        "def f1(x, a=1):\n",
        "    M = np.diag((1, a))\n",
        "    h = np.array((a, a))\n",
        "    return 0.5 * x@M@x - x@h\n",
        "\n",
        "def df1 (x,a = 1):\n",
        "    M = np.diag((1, a))\n",
        "    h = np.array((a, a))\n",
        "    return M@x - h\n",
        "    \n",
        "def J(x):\n",
        "  sum = 0\n",
        "  for index,row in table.iterrows():\n",
        "    v = row[0]\n",
        "    u = np.array(row[1:])\n",
        "    x_u = x@u\n",
        "    sum += x_u * (1-v) +  np.log(1 + np.exp(-x_u))\n",
        "  return sum\n",
        "\n",
        "def dfJ(x):\n",
        "  sum = np.zeros_like(x)\n",
        "  for index,row in table.iterrows():\n",
        "    v = row[0]\n",
        "    u = np.array(row[1:])\n",
        "    x_u = x@u\n",
        "    sum += u * (1-v) - (np.exp(-x_u)/(1 + np.exp(-x_u))) * u\n",
        "  return sum \n"
      ],
      "metadata": {
        "id": "IiNjhuane91p"
      },
      "execution_count": null,
      "outputs": []
    },
    {
      "cell_type": "code",
      "source": [
        "\n",
        "print(J(np.zeros(3)))\n",
        "print(dfJ(np.zeros(3)))\n",
        "print(np.exp(-0))"
      ],
      "metadata": {
        "colab": {
          "base_uri": "https://localhost:8080/"
        },
        "id": "RiUJDDx-M7Bb",
        "outputId": "037e38f4-ff17-4bc3-d7fb-05ccc258229b"
      },
      "execution_count": null,
      "outputs": [
        {
          "output_type": "stream",
          "name": "stdout",
          "text": [
            "484.5098792114029\n",
            "[-1890.5  -388.   -511. ]\n",
            "1.0\n"
          ]
        }
      ]
    },
    {
      "cell_type": "markdown",
      "source": [
        "###2.1.2 Metódy intervalovej aproximáci použité na hľadanie veľkosti kroku"
      ],
      "metadata": {
        "id": "_tZM2BBZYSoK"
      }
    },
    {
      "cell_type": "code",
      "source": [
        "def backtracking_line_search(fun, jac, x0, args=(), s=None, max_stepsize=1,\n",
        "                             rho=0.1, c=0.05, options={}):\n",
        "    \"\"\"\n",
        "    Implements the backtracking line search algorithm to find the step size alpha\n",
        "    for gradient descent.\n",
        "\n",
        "    Parameters:\n",
        "        f : callable\n",
        "            Objective function.\n",
        "        g : callable\n",
        "            Gradient function.\n",
        "        x0 : array-like\n",
        "            Current point.\n",
        "        s : array-like, optional\n",
        "            Search direction. If not provided, gradient direction is used.\n",
        "        max_stepsize : numeric, optional.\n",
        "            Initial step size. Default is 1.\n",
        "        rho : numeric, optional\n",
        "            Shrinkage factor. Nonnegative number, less than one. Default is 0.1.\n",
        "        c : numeric, optional\n",
        "            Armijo condition parameter. Default is 0.05.\n",
        "        options : dict, optional\n",
        "            A diactionary with solver options.\n",
        "                maxiter : int\n",
        "                    Maximum number of iterations to perform.\n",
        "\n",
        "    Returns\n",
        "    -------\n",
        "        stepsize : float\n",
        "            Step size that satisfies the Armijo condition.\n",
        "    \"\"\"\n",
        "\n",
        "    assert 0 < rho < 1, \"Rho parameter should be from range (0, 1)!\"\n",
        "\n",
        "    maxiter = options.get(\"maxiter\", 100)\n",
        "\n",
        "    x = np.array(x0)\n",
        "    if s is None:\n",
        "        s = -jac(x, *args)\n",
        "        df_s = -s@s\n",
        "    else:\n",
        "        df_s = jac(x, *args) @ s\n",
        "    \n",
        "    stepsize = max_stepsize\n",
        "\n",
        "    fx = fun(x, *args)\n",
        "  \n",
        "    \n",
        "    for it in range(maxiter):\n",
        "        if fun(x + stepsize*s, *args) > fx + c*stepsize*df_s:\n",
        "            stepsize *= rho\n",
        "        else:\n",
        "            return stepsize\n",
        "    \n",
        "    return stepsize"
      ],
      "metadata": {
        "id": "uzIueCuvsR9v"
      },
      "execution_count": null,
      "outputs": []
    },
    {
      "cell_type": "code",
      "source": [
        "def bisection(dfun, bounds=None, args=(), callback=None,\n",
        "              options={}, **kwargs):\n",
        "    \"\"\"\n",
        "    Minimization method\n",
        "\n",
        "    Parameters\n",
        "    ----------\n",
        "    dfun : callable f(x, *args)\n",
        "        Derivative of objective function to minimize.\n",
        "    \n",
        "    bounds : tuple of numeric sequence\n",
        "        Two items corresponding to the optimization bounds.\n",
        "    \n",
        "    args : tuple, optional\n",
        "        Extra arguments passed to the objective function.\n",
        "    \n",
        "    callback : callable f(x), optional\n",
        "        Function called after each iteration.\n",
        "    \n",
        "    options : dict, optional\n",
        "        A diactionary with solver options.\n",
        "            maxiter : int\n",
        "                Maximum number of iterations to perform.\n",
        "            tol : float\n",
        "                Tolerance for termination\n",
        "\n",
        "    **kwargs : dict, optional\n",
        "        Other parameters passed to `bisection`.\n",
        "\n",
        "    Raises\n",
        "    ------\n",
        "    ValueError\n",
        "        if `bounds` is not provided.\n",
        "\n",
        "    Returns\n",
        "    -------\n",
        "    res : OptimizeResult\n",
        "        The optimization result represented as a OptimizeResult object.\n",
        "        Important attributes are: x the solution,\n",
        "        success a Boolean flag indicating if the optimizer exited successfully,\n",
        "        message which describes the cause of the termination.\n",
        "        See OptimizeResult for a description of other attributes.\n",
        "    \"\"\"\n",
        "    \n",
        "    if bounds is None:\n",
        "        raise ValueError(\"Must provide `bounds` parameter!\\n Tuple of numeric sequence: two items corresponding to the optimization bounds.\")\n",
        "\n",
        "    maxiter = options.get(\"maxiter\", 1000)\n",
        "    tol = options.get(\"tol\", 1e-9)\n",
        "    a, b = bounds\n",
        "\n",
        "    #print('bisection')\n",
        "    for it in range(maxiter):\n",
        "        c = (a+b)/2\n",
        "        dfc = dfun(c, *args)\n",
        "        #print(c, dfc)\n",
        "        if dfc > 0:\n",
        "          b = c\n",
        "        else:\n",
        "          a = c\n",
        "        if callback is not None:\n",
        "            midpoint = (a+b) / 2\n",
        "            callback(midpoint)\n",
        "        \n",
        "        if b - a < tol:\n",
        "            break\n",
        "    \n",
        "    \n",
        "    success = (b - a) < tol\n",
        "\n",
        "    if success:\n",
        "        msg = \"Optimization successful\"\n",
        "    else:\n",
        "        msg = \"Optimization failed\"\n",
        "    \n",
        "    return  OptimizeResult(x= (b+a)/2, nit=it, njev=it, tol=tol, success=success,message = msg)"
      ],
      "metadata": {
        "id": "S1pbqVDJFjTw"
      },
      "execution_count": null,
      "outputs": []
    },
    {
      "cell_type": "markdown",
      "source": [
        "##2.2 TaskC"
      ],
      "metadata": {
        "id": "2yypovHfoXtE"
      }
    },
    {
      "cell_type": "markdown",
      "source": [
        "###2.2.1 bgfs"
      ],
      "metadata": {
        "id": "6dZLMiJFo1J2"
      }
    },
    {
      "cell_type": "code",
      "source": [
        "def bfgs(fun, jac, x0, stepsize_method, args=(), callback=None, options={}, **kwargs):\n",
        "    \"\"\"\n",
        "    Minimization method\n",
        "\n",
        "    Parameters\n",
        "    ----------\n",
        "    jac : callable f(x, *args)\n",
        "        Gradient of objective function.\n",
        "        \n",
        "    x0 : array-like\n",
        "        Initial guess. \n",
        "    \n",
        "    args : tuple, optional\n",
        "        Extra arguments passed to the `jac`.\n",
        "    \n",
        "    callback : callable f(x), optional\n",
        "        Function called after each iteration.\n",
        "    \n",
        "    options : dict, optional\n",
        "        A diactionary with solver options.\n",
        "            maxiter : int\n",
        "                Maximum number of iterations to perform. Default is 1000.\n",
        "            tol : float\n",
        "                Tolerance for termination. Default is 1e-8.\n",
        "            H0 : array-like\n",
        "                Initial approximation of inverse hessian. Default is\n",
        "                identity matrix.\n",
        "            max_stepsize: float\n",
        "                Maximum step size for line search. Default is 10.\n",
        "\n",
        "    **kwargs : dict, optional\n",
        "        Other parameters passed to `bfgs`.\n",
        "\n",
        "\n",
        "    Returns\n",
        "    -------\n",
        "    res : OptimizeResult\n",
        "        The optimization result represented as a OptimizeResult object.\n",
        "        Important attributes are: x the solution,\n",
        "        success a Boolean flag indicating if the optimizer exited successfully,\n",
        "        message which describes the cause of the termination.\n",
        "        See OptimizeResult for a description of other attributes.\n",
        "    \"\"\"\n",
        "\n",
        "    x = np.array(x0)\n",
        "    n = len(x)\n",
        "\n",
        "    maxiter = options.get(\"maxiter\", 1000)\n",
        "    tol = options.get(\"tol\", 1e-8)\n",
        "    H = options.get(\"H0\", np.eye(n))\n",
        "    max_stepsize = options.get(\"max_stepsize\", 10)\n",
        "\n",
        "    g = jac(x, *args)\n",
        "    for it in range(maxiter):\n",
        "        s = -H @ g\n",
        "        \n",
        "        if stepsize_method == 'bisection':\n",
        "          dzuzenie = lambda a : (jac(x + a*s, *args)) @ s\n",
        "          stepsize = bisection(dzuzenie, bounds = (0,max_stepsize)).x\n",
        "        elif stepsize_method == 'backtracking':\n",
        "          stepsize = backtracking_line_search(fun,jac,x,args,max_stepsize = max_stepsize, s = s)\n",
        "        else :\n",
        "          print('Zadaj metodu')\n",
        "      \n",
        "        x_old = x.copy()\n",
        "        g_old = g.copy()\n",
        "\n",
        "      \n",
        "        x = x + stepsize * s\n",
        "        g = jac(x, *args)\n",
        "\n",
        "        y = g - g_old\n",
        "        p = x - x_old\n",
        "\n",
        "        pTy = p@y\n",
        "        Hy = H@y\n",
        "      \n",
        "        deltaH = (1 + ( (y@H@y) / pTy ) ) * (np.outer(p,p) / pTy) - ( ( np.outer(Hy, p) + (np.outer(p,y))@H) / pTy )\n",
        "        \n",
        "        H = H + deltaH\n",
        "\n",
        "        if callback is not None:\n",
        "            callback(x)\n",
        "        \n",
        "        if np.linalg.norm(jac(x, *args)) <= tol:\n",
        "            break\n",
        "    \n",
        "    \n",
        "    success = np.linalg.norm(jac(x, *args)) <= tol\n",
        "\n",
        "    if success:\n",
        "        msg = \"Optimization successful\"\n",
        "    else:\n",
        "        msg = \"Optimization failed\"\n",
        "    \n",
        "    return OptimizeResult(x = x, nit = it + 1, njev = it + 1, success = success, message = msg)\n"
      ],
      "metadata": {
        "id": "4NC_DIL7ol97"
      },
      "execution_count": null,
      "outputs": []
    },
    {
      "cell_type": "code",
      "source": [
        "bfgs_iterations = []\n",
        "fill_bgfs = lambda x: bfgs_iterations.append(x)\n",
        "bfgs(fun = J, jac=dfJ, x0 = np.zeros(3),stepsize_method = 'backtracking', callback=fill_bgfs, options = {'tol' : 1e-3})"
      ],
      "metadata": {
        "colab": {
          "base_uri": "https://localhost:8080/"
        },
        "id": "OAdo2KsNOa6D",
        "outputId": "1e02dd50-af62-4e1a-befe-44b95f5019c8"
      },
      "execution_count": null,
      "outputs": [
        {
          "output_type": "stream",
          "name": "stderr",
          "text": [
            "<ipython-input-4-89d3f362e688>:18: RuntimeWarning: overflow encountered in exp\n",
            "  sum += x_u * (1-v) +  np.log(1 + np.exp(-x_u))\n"
          ]
        },
        {
          "output_type": "execute_result",
          "data": {
            "text/plain": [
              " message: Optimization successful\n",
              " success: True\n",
              "       x: [-4.536e-02  3.277e-01  3.462e-01]\n",
              "     nit: 8\n",
              "    njev: 8"
            ]
          },
          "metadata": {},
          "execution_count": 66
        }
      ]
    },
    {
      "cell_type": "markdown",
      "source": [
        "###2.2.2 dfp"
      ],
      "metadata": {
        "id": "Xw_a2_-lsm6-"
      }
    },
    {
      "cell_type": "code",
      "source": [
        "def dfp (fun, jac, x0, stepsize_method, args=(), callback=None, options={}, **kwargs):\n",
        "    \"\"\"\n",
        "    Minimization method\n",
        "\n",
        "    Parameters\n",
        "    ----------\n",
        "    jac : callable f(x, *args)\n",
        "        Gradient of objective function.\n",
        "        \n",
        "    x0 : array-like\n",
        "        Initial guess. \n",
        "    \n",
        "    args : tuple, optional\n",
        "        Extra arguments passed to the `jac`.\n",
        "    \n",
        "    callback : callable f(x), optional\n",
        "        Function called after each iteration.\n",
        "    \n",
        "    options : dict, optional\n",
        "        A diactionary with solver options.\n",
        "            maxiter : int\n",
        "                Maximum number of iterations to perform. Default is 1000.\n",
        "            tol : float\n",
        "                Tolerance for termination. Default is 1e-8.\n",
        "            H0 : array-like\n",
        "                Initial approximation of inverse hessian. Default is\n",
        "                identity matrix.\n",
        "            max_stepsize: float\n",
        "                Maximum step size for line search. Default is 10.\n",
        "\n",
        "    **kwargs : dict, optional\n",
        "        Other parameters passed to `bfgs`.\n",
        "\n",
        "\n",
        "    Returns\n",
        "    -------\n",
        "    res : OptimizeResult\n",
        "        The optimization result represented as a OptimizeResult object.\n",
        "        Important attributes are: x the solution,\n",
        "        success a Boolean flag indicating if the optimizer exited successfully,\n",
        "        message which describes the cause of the termination.\n",
        "        See OptimizeResult for a description of other attributes.\n",
        "    \"\"\"\n",
        "\n",
        "    x = np.array(x0)\n",
        "    n = len(x)\n",
        "\n",
        "    maxiter = options.get(\"maxiter\", 1000)\n",
        "    tol = options.get(\"tol\", 1e-8)\n",
        "    H = options.get(\"H0\", np.eye(n))\n",
        "    max_stepsize = options.get(\"max_stepsize\", 10)\n",
        "\n",
        "    g = jac(x, *args)\n",
        "    for it in range(maxiter):\n",
        "        s = -H @ g\n",
        "\n",
        "        if stepsize_method == 'bisection':\n",
        "          dzuzenie = lambda a : (jac(x + a*s, *args)) @ s\n",
        "          stepsize = bisection(dzuzenie, bounds = (0,max_stepsize)).x\n",
        "        elif stepsize_method == 'backtracking':\n",
        "          stepsize = backtracking_line_search(fun,jac,x,args,max_stepsize = max_stepsize, s = s)\n",
        "        else :\n",
        "          print('Zadaj metodu')\n",
        "        \n",
        "        x_old = x.copy()\n",
        "        g_old = g.copy()\n",
        "\n",
        "        x = x + stepsize * s\n",
        "        g = jac(x, *args)\n",
        "\n",
        "        y = g - g_old\n",
        "        p = x - x_old\n",
        "\n",
        "        Hy = H@y\n",
        "\n",
        "    \n",
        "        deltaH = ( np.outer(p,p) / (p@y) ) - ( np.outer(Hy,y@H) / (y@Hy) )  \n",
        "\n",
        "        H = H + deltaH\n",
        "\n",
        "        if callback is not None:\n",
        "            callback(x)\n",
        "        \n",
        "        if np.linalg.norm(jac(x,*args)) < tol:\n",
        "            break\n",
        "    \n",
        "    \n",
        "    success = np.linalg.norm(jac(x, *args)) < tol\n",
        "\n",
        "    if success:\n",
        "        msg = \"Optimization successful\"\n",
        "    else:\n",
        "        msg = \"Optimization failed\"\n",
        "    \n",
        "    return OptimizeResult(x = x, nit = it + 1, njev = it + 1, success = success, message = msg)\n"
      ],
      "metadata": {
        "id": "KBWUTJvY9Q1m"
      },
      "execution_count": null,
      "outputs": []
    },
    {
      "cell_type": "code",
      "source": [
        "dfp_iterations = []\n",
        "fill_dfp = lambda x: dfp_iterations.append(x)\n",
        "dfp(fun = J, jac=dfJ, x0 = np.zeros(3), stepsize_method='backtracking', callback=fill_dfp, options = {'tol' : 1e-3})"
      ],
      "metadata": {
        "colab": {
          "base_uri": "https://localhost:8080/"
        },
        "id": "oemGUZdxFpNm",
        "outputId": "ad9dbb5e-1360-45f5-c166-02d12ea99ccd"
      },
      "execution_count": null,
      "outputs": [
        {
          "output_type": "stream",
          "name": "stderr",
          "text": [
            "<ipython-input-4-89d3f362e688>:18: RuntimeWarning: overflow encountered in exp\n",
            "  sum += x_u * (1-v) +  np.log(1 + np.exp(-x_u))\n"
          ]
        },
        {
          "output_type": "execute_result",
          "data": {
            "text/plain": [
              " message: Optimization successful\n",
              " success: True\n",
              "       x: [-4.536e-02  3.277e-01  3.462e-01]\n",
              "     nit: 9\n",
              "    njev: 9"
            ]
          },
          "metadata": {},
          "execution_count": 71
        }
      ]
    },
    {
      "cell_type": "markdown",
      "source": [
        "##2.3 TaskD"
      ],
      "metadata": {
        "id": "k5OiL_gWdvsp"
      }
    },
    {
      "cell_type": "code",
      "source": [
        "bfgs_iterations = []\n",
        "fill_bgfs = lambda x: bfgs_iterations.append(x)\n",
        "bfgs(fun = J, jac=dfJ, x0 = np.zeros(3), stepsize_method='bisection', callback=fill_bgfs, options = {'tol' : 1e-3,'max_stepsize' : 0.5})"
      ],
      "metadata": {
        "colab": {
          "base_uri": "https://localhost:8080/"
        },
        "outputId": "66ece969-1aff-4384-b026-d45bd2fd4413",
        "id": "hETmbOdcQryI"
      },
      "execution_count": null,
      "outputs": [
        {
          "output_type": "execute_result",
          "data": {
            "text/plain": [
              " message: Optimization successful\n",
              " success: True\n",
              "       x: [-4.536e-02  3.277e-01  3.462e-01]\n",
              "     nit: 22\n",
              "    njev: 22"
            ]
          },
          "metadata": {},
          "execution_count": 69
        }
      ]
    },
    {
      "cell_type": "markdown",
      "source": [
        "##2.4 TaskE - kvázinewtonovské metódy"
      ],
      "metadata": {
        "id": "DhkimhHPVXif"
      }
    },
    {
      "cell_type": "code",
      "source": [
        "def sr1(fun, jac, x0, stepsize_method, args=(), callback=None, options={}, **kwargs):\n",
        "    \"\"\"\n",
        "    Minimization method\n",
        "\n",
        "    Parameters\n",
        "    ----------\n",
        "    jac : callable f(x, *args)\n",
        "        Gradient of objective function.\n",
        "        \n",
        "    x0 : array-like\n",
        "        Initial guess. \n",
        "    \n",
        "    args : tuple, optional\n",
        "        Extra arguments passed to the `jac`.\n",
        "    \n",
        "    callback : callable f(x), optional\n",
        "        Function called after each iteration.\n",
        "    \n",
        "    options : dict, optional\n",
        "        A diactionary with solver options.\n",
        "            maxiter : int\n",
        "                Maximum number of iterations to perform. Default is 1000.\n",
        "            tol : float\n",
        "                Tolerance for termination. Default is 1e-8.\n",
        "            H0 : array-like\n",
        "                Initial approximation of inverse hessian. Default is\n",
        "                identity matrix.\n",
        "            max_stepsize: float\n",
        "                Maximum step size for line search. Default is 10.\n",
        "\n",
        "    **kwargs : dict, optional\n",
        "        Other parameters passed to `bfgs`.\n",
        "\n",
        "\n",
        "    Returns\n",
        "    -------\n",
        "    res : OptimizeResult\n",
        "        The optimization result represented as a OptimizeResult object.\n",
        "        Important attributes are: x the solution,\n",
        "        success a Boolean flag indicating if the optimizer exited successfully,\n",
        "        message which describes the cause of the termination.\n",
        "        See OptimizeResult for a description of other attributes.\n",
        "    \"\"\"\n",
        "\n",
        "    x = np.array(x0)\n",
        "    n = len(x)\n",
        "\n",
        "    maxiter = options.get(\"maxiter\", 1000)\n",
        "    tol = options.get(\"tol\", 1e-8)\n",
        "    H = options.get(\"H0\", np.eye(n))\n",
        "    max_stepsize = options.get(\"max_stepsize\", 10)\n",
        "\n",
        "    g = jac(x, *args)\n",
        "    for it in range(maxiter):\n",
        "        s = -H @ g\n",
        "\n",
        "        dzuzenie = lambda a : (jac(x + a*s, *args)) @ s\n",
        "        if stepsize_method == 'bisection':\n",
        "          stepsize = bisection(dzuzenie, bounds = (0,max_stepsize)).x\n",
        "        elif stepsize_method == 'backtracking':\n",
        "          stepsize = backtracking_line_search(fun,jac,x,args,max_stepsize = max_stepsize, s = s)\n",
        "\n",
        "        \n",
        "        x_old = x.copy()\n",
        "        g_old = g.copy()\n",
        "\n",
        "        x = x + stepsize * s\n",
        "        g = jac(x, *args)\n",
        "\n",
        "        y = g - g_old\n",
        "        p = x - x_old\n",
        "\n",
        "        pHy = p - H@y\n",
        "        deltaH = np.outer(pHy, pHy) / (y @ (pHy))  \n",
        "\n",
        "        H = H + deltaH\n",
        "\n",
        "        if callback is not None:\n",
        "            callback(x)\n",
        "        \n",
        "        if np.linalg.norm(jac(x ,*args)) < tol:\n",
        "            break\n",
        "    \n",
        "    \n",
        "    success = np.linalg.norm(jac(x, *args)) < tol\n",
        "\n",
        "    if success:\n",
        "        msg = \"Optimization successful\"\n",
        "    else:\n",
        "        msg = \"Optimization failed\"\n",
        "    \n",
        "    return OptimizeResult(x = x, nit = it + 1, njev = it + 1, success = success, message = msg)"
      ],
      "metadata": {
        "id": "aMsHc4hOVoMa"
      },
      "execution_count": null,
      "outputs": []
    },
    {
      "cell_type": "code",
      "source": [
        "bfgs_iterations = []\n",
        "fill_bgfs = lambda x: bfgs_iterations.append(x)\n",
        "sr1(fun = J, jac=dfJ, x0 = np.zeros(3), stepsize_method='bisection', callback=fill_bgfs, options = {'tol' : 1e-3, 'max_stepsize':0.5})"
      ],
      "metadata": {
        "colab": {
          "base_uri": "https://localhost:8080/"
        },
        "outputId": "3a1e5ba9-de3c-44fd-eae3-393766ca3ade",
        "id": "vj-z33dGWRe2"
      },
      "execution_count": null,
      "outputs": [
        {
          "output_type": "execute_result",
          "data": {
            "text/plain": [
              " message: Optimization successful\n",
              " success: True\n",
              "       x: [-4.536e-02  3.277e-01  3.462e-01]\n",
              "     nit: 22\n",
              "    njev: 22"
            ]
          },
          "metadata": {},
          "execution_count": 51
        }
      ]
    },
    {
      "cell_type": "code",
      "source": [
        "bfgs_iterations = []\n",
        "fill_bgfs = lambda x: bfgs_iterations.append(x)\n",
        "sr1(fun = J, jac=dfJ, x0 = np.zeros(3), stepsize_method='backtracking', callback=fill_bgfs, options = {'tol' : 1e-3})"
      ],
      "metadata": {
        "colab": {
          "base_uri": "https://localhost:8080/"
        },
        "outputId": "79026323-1e0e-4f25-9a71-ff1ebf5d2163",
        "id": "s5dfi-Yba7tB"
      },
      "execution_count": null,
      "outputs": [
        {
          "output_type": "stream",
          "name": "stderr",
          "text": [
            "<ipython-input-4-89d3f362e688>:18: RuntimeWarning: overflow encountered in exp\n",
            "  sum += x_u * (1-v) +  np.log(1 + np.exp(-x_u))\n"
          ]
        },
        {
          "output_type": "execute_result",
          "data": {
            "text/plain": [
              " message: Optimization successful\n",
              " success: True\n",
              "       x: [-4.536e-02  3.277e-01  3.462e-01]\n",
              "     nit: 8\n",
              "    njev: 8"
            ]
          },
          "metadata": {},
          "execution_count": 91
        }
      ]
    },
    {
      "cell_type": "code",
      "source": [
        "bfgs_iterations = []\n",
        "fill_bgfs = lambda x: bfgs_iterations.append(x)\n",
        "dfp(fun = J, jac=dfJ, x0 = np.zeros(3), stepsize_method='bisection', callback=fill_bgfs, options = {'tol' : 1e-3,'max_stepsize' : 0.5})"
      ],
      "metadata": {
        "colab": {
          "base_uri": "https://localhost:8080/"
        },
        "outputId": "5eda3e89-3a90-4bac-b73b-f247e2caf2e0",
        "id": "ay78GkYLhJR8"
      },
      "execution_count": null,
      "outputs": [
        {
          "output_type": "stream",
          "name": "stderr",
          "text": [
            "<ipython-input-4-89d3f362e688>:18: RuntimeWarning: overflow encountered in exp\n",
            "  sum += x_u * (1-v) +  np.log(1 + np.exp(-x_u))\n"
          ]
        },
        {
          "output_type": "execute_result",
          "data": {
            "text/plain": [
              " message: Optimization successful\n",
              " success: True\n",
              "       x: [-4.536e-02  3.277e-01  3.462e-01]\n",
              "     nit: 24\n",
              "    njev: 24"
            ]
          },
          "metadata": {},
          "execution_count": 72
        }
      ]
    },
    {
      "cell_type": "code",
      "source": [
        "def makeData(f, df, x0 = np.zeros(3), args = ()):  \n",
        "  def append_item(l: list, new_item):\n",
        "      l.append(new_item)\n",
        "  data = []\n",
        "\n",
        "  iter = []\n",
        "  fill_iter = lambda x: append_item(iter, x)\n",
        "  \n",
        "  bgfs_back = bfgs(fun = f, jac = df, x0 = x0, stepsize_method = 'backtracking', args = args, callback=fill_iter, options = {'tol':1e-3, })\n",
        "  solution = bgfs_back.x\n",
        "  for i in range (0,len(iter)): data.append(['bgfs_back',i, J(iter[i]) - J(solution)])\n",
        " \n",
        "\n",
        "  iter = []\n",
        "  bgfs_bis = bfgs(fun = f, jac = df, x0 = x0, stepsize_method = 'bisection', args = args, callback=fill_iter, options = {'tol':1e-3, 'max_stepsize':0.5})\n",
        "  solution = bgfs_bis.x\n",
        "  for i in range (0,len(iter)): data.append(['bgfs_bis',i, J(iter[i]) - J(solution)])\n",
        "\n",
        "\n",
        "  iter = []\n",
        "  dfp_back = dfp(fun = f, jac = df, x0 = x0, stepsize_method = 'backtracking', args = args, callback=fill_iter, options = {'tol':1e-3})\n",
        "  solution = dfp_back.x\n",
        "  for i in range (0,len(iter)): data.append(['dfp_back',i, J(iter[i]) - J(solution)])\n",
        " \n",
        "  iter = []\n",
        "  dfp_bis = dfp(fun = f, jac = df, x0 = x0, stepsize_method = 'bisection', args = args, callback=fill_iter, options = {'tol':1e-3, 'max_stepsize':0.5})\n",
        "  solution = dfp_bis.x\n",
        "  for i in range (0,len(iter)): data.append(['dfp_bis',i, J(iter[i]) - J(solution)])\n",
        "  \n",
        "\n",
        "  iter = []\n",
        "  sr1_back = sr1(fun = f, jac = df, x0 = x0, stepsize_method = 'backtracking', args = args, callback=fill_iter, options = {'tol':1e-3})\n",
        "  solution = sr1_back.x\n",
        "  for i in range (0,len(iter)): data.append(['sr1_back',i, J(iter[i]) - J(solution)])\n",
        "  \n",
        "\n",
        "  iter = []\n",
        "  sr1_bis = sr1(fun = f, jac = df, x0 = x0, stepsize_method = 'bisection', args = args, callback=fill_iter, options = {'tol':1e-3, 'max_stepsize':0.5})\n",
        "  solution = sr1_bis.x\n",
        "  for i in range (0,len(iter)): data.append(['sr1_bis',i, J(iter[i]) - J(solution)])\n",
        "  \n",
        "\n",
        "  table = pd.DataFrame(data,columns = ['Method', 'iteration', 'diffrence'])\n",
        "  return table"
      ],
      "metadata": {
        "id": "530WsZpfh5da"
      },
      "execution_count": null,
      "outputs": []
    },
    {
      "cell_type": "code",
      "source": [
        "table1 = makeData(J, dfJ)"
      ],
      "metadata": {
        "colab": {
          "base_uri": "https://localhost:8080/"
        },
        "id": "pRYsUOJElikG",
        "outputId": "69f08c80-4f2e-4805-b87d-43aaabebaef9"
      },
      "execution_count": null,
      "outputs": [
        {
          "output_type": "stream",
          "name": "stderr",
          "text": [
            "<ipython-input-111-89d3f362e688>:18: RuntimeWarning: overflow encountered in exp\n",
            "  sum += x_u * (1-v) +  np.log(1 + np.exp(-x_u))\n"
          ]
        }
      ]
    },
    {
      "cell_type": "code",
      "source": [
        "table1"
      ],
      "metadata": {
        "colab": {
          "base_uri": "https://localhost:8080/",
          "height": 424
        },
        "id": "4zyWmBcwrSP9",
        "outputId": "8c7d45ce-6f15-457c-d37b-4770ccd7b0e4"
      },
      "execution_count": null,
      "outputs": [
        {
          "output_type": "execute_result",
          "data": {
            "text/plain": [
              "       Method  iteration     diffrence\n",
              "0   bgfs_back          0  7.619071e+01\n",
              "1   bgfs_back          1  3.521694e+00\n",
              "2   bgfs_back          2  3.474129e+00\n",
              "3   bgfs_back          3  6.799094e-01\n",
              "4   bgfs_back          4  9.267315e-03\n",
              "..        ...        ...           ...\n",
              "86    sr1_bis         17  1.062915e-09\n",
              "87    sr1_bis         18  2.627871e-10\n",
              "88    sr1_bis         19  6.309619e-11\n",
              "89    sr1_bis         20  1.284661e-11\n",
              "90    sr1_bis         21  0.000000e+00\n",
              "\n",
              "[91 rows x 3 columns]"
            ],
            "text/html": [
              "\n",
              "  <div id=\"df-8a9252f7-2e28-49dd-ba5c-0cbec22cd60a\">\n",
              "    <div class=\"colab-df-container\">\n",
              "      <div>\n",
              "<style scoped>\n",
              "    .dataframe tbody tr th:only-of-type {\n",
              "        vertical-align: middle;\n",
              "    }\n",
              "\n",
              "    .dataframe tbody tr th {\n",
              "        vertical-align: top;\n",
              "    }\n",
              "\n",
              "    .dataframe thead th {\n",
              "        text-align: right;\n",
              "    }\n",
              "</style>\n",
              "<table border=\"1\" class=\"dataframe\">\n",
              "  <thead>\n",
              "    <tr style=\"text-align: right;\">\n",
              "      <th></th>\n",
              "      <th>Method</th>\n",
              "      <th>iteration</th>\n",
              "      <th>diffrence</th>\n",
              "    </tr>\n",
              "  </thead>\n",
              "  <tbody>\n",
              "    <tr>\n",
              "      <th>0</th>\n",
              "      <td>bgfs_back</td>\n",
              "      <td>0</td>\n",
              "      <td>7.619071e+01</td>\n",
              "    </tr>\n",
              "    <tr>\n",
              "      <th>1</th>\n",
              "      <td>bgfs_back</td>\n",
              "      <td>1</td>\n",
              "      <td>3.521694e+00</td>\n",
              "    </tr>\n",
              "    <tr>\n",
              "      <th>2</th>\n",
              "      <td>bgfs_back</td>\n",
              "      <td>2</td>\n",
              "      <td>3.474129e+00</td>\n",
              "    </tr>\n",
              "    <tr>\n",
              "      <th>3</th>\n",
              "      <td>bgfs_back</td>\n",
              "      <td>3</td>\n",
              "      <td>6.799094e-01</td>\n",
              "    </tr>\n",
              "    <tr>\n",
              "      <th>4</th>\n",
              "      <td>bgfs_back</td>\n",
              "      <td>4</td>\n",
              "      <td>9.267315e-03</td>\n",
              "    </tr>\n",
              "    <tr>\n",
              "      <th>...</th>\n",
              "      <td>...</td>\n",
              "      <td>...</td>\n",
              "      <td>...</td>\n",
              "    </tr>\n",
              "    <tr>\n",
              "      <th>86</th>\n",
              "      <td>sr1_bis</td>\n",
              "      <td>17</td>\n",
              "      <td>1.062915e-09</td>\n",
              "    </tr>\n",
              "    <tr>\n",
              "      <th>87</th>\n",
              "      <td>sr1_bis</td>\n",
              "      <td>18</td>\n",
              "      <td>2.627871e-10</td>\n",
              "    </tr>\n",
              "    <tr>\n",
              "      <th>88</th>\n",
              "      <td>sr1_bis</td>\n",
              "      <td>19</td>\n",
              "      <td>6.309619e-11</td>\n",
              "    </tr>\n",
              "    <tr>\n",
              "      <th>89</th>\n",
              "      <td>sr1_bis</td>\n",
              "      <td>20</td>\n",
              "      <td>1.284661e-11</td>\n",
              "    </tr>\n",
              "    <tr>\n",
              "      <th>90</th>\n",
              "      <td>sr1_bis</td>\n",
              "      <td>21</td>\n",
              "      <td>0.000000e+00</td>\n",
              "    </tr>\n",
              "  </tbody>\n",
              "</table>\n",
              "<p>91 rows × 3 columns</p>\n",
              "</div>\n",
              "      <button class=\"colab-df-convert\" onclick=\"convertToInteractive('df-8a9252f7-2e28-49dd-ba5c-0cbec22cd60a')\"\n",
              "              title=\"Convert this dataframe to an interactive table.\"\n",
              "              style=\"display:none;\">\n",
              "        \n",
              "  <svg xmlns=\"http://www.w3.org/2000/svg\" height=\"24px\"viewBox=\"0 0 24 24\"\n",
              "       width=\"24px\">\n",
              "    <path d=\"M0 0h24v24H0V0z\" fill=\"none\"/>\n",
              "    <path d=\"M18.56 5.44l.94 2.06.94-2.06 2.06-.94-2.06-.94-.94-2.06-.94 2.06-2.06.94zm-11 1L8.5 8.5l.94-2.06 2.06-.94-2.06-.94L8.5 2.5l-.94 2.06-2.06.94zm10 10l.94 2.06.94-2.06 2.06-.94-2.06-.94-.94-2.06-.94 2.06-2.06.94z\"/><path d=\"M17.41 7.96l-1.37-1.37c-.4-.4-.92-.59-1.43-.59-.52 0-1.04.2-1.43.59L10.3 9.45l-7.72 7.72c-.78.78-.78 2.05 0 2.83L4 21.41c.39.39.9.59 1.41.59.51 0 1.02-.2 1.41-.59l7.78-7.78 2.81-2.81c.8-.78.8-2.07 0-2.86zM5.41 20L4 18.59l7.72-7.72 1.47 1.35L5.41 20z\"/>\n",
              "  </svg>\n",
              "      </button>\n",
              "      \n",
              "  <style>\n",
              "    .colab-df-container {\n",
              "      display:flex;\n",
              "      flex-wrap:wrap;\n",
              "      gap: 12px;\n",
              "    }\n",
              "\n",
              "    .colab-df-convert {\n",
              "      background-color: #E8F0FE;\n",
              "      border: none;\n",
              "      border-radius: 50%;\n",
              "      cursor: pointer;\n",
              "      display: none;\n",
              "      fill: #1967D2;\n",
              "      height: 32px;\n",
              "      padding: 0 0 0 0;\n",
              "      width: 32px;\n",
              "    }\n",
              "\n",
              "    .colab-df-convert:hover {\n",
              "      background-color: #E2EBFA;\n",
              "      box-shadow: 0px 1px 2px rgba(60, 64, 67, 0.3), 0px 1px 3px 1px rgba(60, 64, 67, 0.15);\n",
              "      fill: #174EA6;\n",
              "    }\n",
              "\n",
              "    [theme=dark] .colab-df-convert {\n",
              "      background-color: #3B4455;\n",
              "      fill: #D2E3FC;\n",
              "    }\n",
              "\n",
              "    [theme=dark] .colab-df-convert:hover {\n",
              "      background-color: #434B5C;\n",
              "      box-shadow: 0px 1px 3px 1px rgba(0, 0, 0, 0.15);\n",
              "      filter: drop-shadow(0px 1px 2px rgba(0, 0, 0, 0.3));\n",
              "      fill: #FFFFFF;\n",
              "    }\n",
              "  </style>\n",
              "\n",
              "      <script>\n",
              "        const buttonEl =\n",
              "          document.querySelector('#df-8a9252f7-2e28-49dd-ba5c-0cbec22cd60a button.colab-df-convert');\n",
              "        buttonEl.style.display =\n",
              "          google.colab.kernel.accessAllowed ? 'block' : 'none';\n",
              "\n",
              "        async function convertToInteractive(key) {\n",
              "          const element = document.querySelector('#df-8a9252f7-2e28-49dd-ba5c-0cbec22cd60a');\n",
              "          const dataTable =\n",
              "            await google.colab.kernel.invokeFunction('convertToInteractive',\n",
              "                                                     [key], {});\n",
              "          if (!dataTable) return;\n",
              "\n",
              "          const docLinkHtml = 'Like what you see? Visit the ' +\n",
              "            '<a target=\"_blank\" href=https://colab.research.google.com/notebooks/data_table.ipynb>data table notebook</a>'\n",
              "            + ' to learn more about interactive tables.';\n",
              "          element.innerHTML = '';\n",
              "          dataTable['output_type'] = 'display_data';\n",
              "          await google.colab.output.renderOutput(dataTable, element);\n",
              "          const docLink = document.createElement('div');\n",
              "          docLink.innerHTML = docLinkHtml;\n",
              "          element.appendChild(docLink);\n",
              "        }\n",
              "      </script>\n",
              "    </div>\n",
              "  </div>\n",
              "  "
            ]
          },
          "metadata": {},
          "execution_count": 124
        }
      ]
    },
    {
      "cell_type": "code",
      "source": [
        "fig, axs = plt.subplots(figsize = (20,7))\n",
        "sns.set_style({'axes.spines.right': False,'axes.spines.left': True,'axes.spines.top': False})\n",
        "\n",
        "axes = sns.pointplot(data=table1, x='iteration', y='diffrence',hue = 'Method',ax = axs)\n",
        "plt.yscale('log')"
      ],
      "metadata": {
        "colab": {
          "base_uri": "https://localhost:8080/"
        },
        "id": "H-Prrn_qs3Um",
        "outputId": "a197dd5b-3fb2-4e96-a227-e0201952b85e"
      },
      "execution_count": null,
      "outputs": [
        {
          "output_type": "display_data",
          "data": {
            "text/plain": [
              "<Figure size 2000x700 with 1 Axes>"
            ],
            "image/png": "[encoded data removed]"
          },
          "metadata": {}
        }
      ]
    }
  ]
}